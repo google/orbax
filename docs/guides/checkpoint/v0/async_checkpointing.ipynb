{
  "cells": [
    {
      "cell_type": "markdown",
      "metadata": {
        "id": "Tws9Wohz0wq1"
      },
      "source": [
        "# Asynchronous Checkpointing"
      ]
    },
    {
      "cell_type": "markdown",
      "metadata": {
        "id": "lAzUxFhj8GEZ"
      },
      "source": [
        "## What is this?"
      ]
    },
    {
      "cell_type": "markdown",
      "metadata": {
        "id": "tlQs0KnN8Vjm"
      },
      "source": [
        "Orbax supports async checkpointing. This means that checkpoints can be saved in a background thread while training proceeds concurrently, leaving a minimum amount of time required for performing the blocking portion of the save."
      ]
    },
    {
      "cell_type": "markdown",
      "metadata": {
        "id": "LWfVErw68XJw"
      },
      "source": [
        "## Why should I care?"
      ]
    },
    {
      "cell_type": "markdown",
      "metadata": {
        "id": "Udg-yOXN015v"
      },
      "source": [
        "Training jobs that would ordinarily spend time blocking for arrays to be written to disk, often via slow network connections, can proceed without waiting. This typically results in faster training progress. Furthermore, expensive devices like TPUs or GPUs which would have previously been left idle for the entire duration of the save are put to productive use for a higher proportion of the time during the training run."
      ]
    },
    {
      "cell_type": "markdown",
      "metadata": {
        "id": "fUexYhsm8c-N"
      },
      "source": [
        "Because the we only need to worry about the blocking portion of the save, checkpointing becomes significantly faster. Consider some concrete numbers:\n",
        "\n",
        "*   On a **300M** parameter model, saving time decreased by **~40%**\n",
        "*   On an **8B** parameter model, saving time decreased by **~85%**\n",
        "*   On a **340B** parameter model, saving time decreased by **~97%**"
      ]
    },
    {
      "cell_type": "markdown",
      "metadata": {
        "id": "qa9Y6f3w2TW_"
      },
      "source": [
        "In short, **async checkpointing adoption is highly encouraged**. It can result in improved training throughput and substantial resource savings."
      ]
    },
    {
      "cell_type": "markdown",
      "metadata": {
        "id": "rINNC57Y5Z6W"
      },
      "source": [
        "## Usage"
      ]
    },
    {
      "cell_type": "markdown",
      "metadata": {
        "id": "XnwgKVRP7pXx"
      },
      "source": [
        "Some setup first:"
      ]
    },
    {
      "cell_type": "code",
      "execution_count": null,
      "metadata": {
        "id": "yBFRc5po56Qh"
      },
      "outputs": [],
      "source": [
        "import numpy as np\n",
        "import orbax.checkpoint as ocp\n",
        "from etils import epath\n",
        "\n",
        "train_state = {\n",
        "    'layer0': {\n",
        "        'kernel': np.ones((8, 8), dtype=np.float32),\n",
        "        'bias': np.ones((8,), dtype=np.float32),\n",
        "    }\n",
        "}"
      ]
    },
    {
      "cell_type": "markdown",
      "metadata": {
        "id": "O2b50IV33Gxq"
      },
      "source": [
        "Using async checkpointing is quite simple in Orbax. Before, we would do something like this:"
      ]
    },
    {
      "cell_type": "code",
      "execution_count": null,
      "metadata": {
        "id": "kFtslzIM0teQ"
      },
      "outputs": [],
      "source": [
        "### PREFER NOT TO USE THIS. ###\n",
        "### PREFER TO USE ASYNC CHECKPOINTING INSTEAD (SEE BELOW). ###\n",
        "\n",
        "path = epath.Path('/tmp/sync_checkpoint')\n",
        "ckptr = ocp.Checkpointer(ocp.StandardCheckpointHandler())\n",
        "ckptr.save(path, args=ocp.args.StandardSave(train_state))"
      ]
    },
    {
      "cell_type": "markdown",
      "metadata": {
        "id": "GIRd_6F65Mo7"
      },
      "source": [
        "Now we can simply use `AsyncCheckpointer` instead of `Checkpointer`. Calling `save` will kick off the checkpoint save in a background thread, and return without waiting for completion. At this point, other work can be performed in the main thread, and `wait_until_finished` can be called to block until completion. **Importantly**, the `AsyncCheckpointer` must remain alive for the duration of the save."
      ]
    },
    {
      "cell_type": "code",
      "execution_count": null,
      "metadata": {
        "id": "CN7n3KNV4Wrh"
      },
      "outputs": [],
      "source": [
        "path = epath.Path('/tmp/async_checkpoint')\n",
        "ckptr = ocp.AsyncCheckpointer(ocp.StandardCheckpointHandler())\n",
        "ckptr.save(path, args=ocp.args.StandardSave(train_state))\n",
        "### Do some other work...\n",
        "ckptr.wait_until_finished()"
      ]
    },
    {
      "cell_type": "markdown",
      "metadata": {
        "id": "wRJdoYEL59yu"
      },
      "source": [
        "We can do something similar if we're using `CheckpointManager`:"
      ]
    },
    {
      "cell_type": "code",
      "execution_count": null,
      "metadata": {
        "id": "L-XLmBlN6AqL"
      },
      "outputs": [],
      "source": [
        "path = epath.Path('/tmp/async_checkpoint_manager')\n",
        "ckpt_mngr = ocp.CheckpointManager(path)\n",
        "\n",
        "def train_step(step, state):\n",
        "  # update state values accordingly\n",
        "  return step + 1, state\n",
        "\n",
        "step = 0\n",
        "num_steps = 5\n",
        "while step \u003c num_steps:\n",
        "  ckpt_mngr.save(step, args=ocp.args.StandardSave(train_state))\n",
        "  step, train_state = train_step(step, train_state)\n",
        "\n",
        "ckpt_mngr.wait_until_finished()"
      ]
    },
    {
      "cell_type": "code",
      "execution_count": null,
      "metadata": {
        "id": "7FzbHDz06xx9"
      },
      "outputs": [],
      "source": [
        "ckpt_mngr.all_steps()"
      ]
    },
    {
      "cell_type": "markdown",
      "metadata": {
        "id": "aUt4GA3m7zlY"
      },
      "source": [
        "Note that calling `save` when using an `AsyncCheckpointer` will automatically call `wait_until_finished` before starting a new save, so that any writes that are still in progress will be completed first."
      ]
    },
    {
      "cell_type": "markdown",
      "metadata": {
        "id": "748_i6dgKqYI"
      },
      "source": [
        "Async save behavior in `CheckpointManager` can be switched off by using the following:"
      ]
    },
    {
      "cell_type": "code",
      "execution_count": null,
      "metadata": {
        "id": "PtU7se7VKwno"
      },
      "outputs": [],
      "source": [
        "ocp.CheckpointManagerOptions(enable_async_checkpointing=False)"
      ]
    },
    {
      "cell_type": "markdown",
      "metadata": {
        "id": "meEzmMLQ69EZ"
      },
      "source": [
        "## Additional Details"
      ]
    },
    {
      "cell_type": "markdown",
      "metadata": {
        "id": "8x8ZNQpb6-Sk"
      },
      "source": [
        "From start to finish, async checkpointing for a train state of arrays works by first performing a blocking copy of the arrays from device to host. (If the array is already in memory, a copy will also be created in this case.) This step is necessary because the values cannot be written directly from device to storage. It also needs to be blocking because if training proceeds on the main thread, updates to the train state will result in the checkpoint being corrupted.\n",
        "\n",
        "Once the copy completes (and any other less significant blocking operations), a series of futures are returned to `AsyncCheckpointer` by the `CheckpointHandler`. `AsyncCheckpointer` then starts a background thread to wait on these futures (which are already running)."
      ]
    },
    {
      "cell_type": "markdown",
      "metadata": {
        "id": "Zz8SYpQBEJ7n"
      },
      "source": [
        "The examples shown above works well for PyTrees of `jax.Array`s present on TPUs or GPUs. However, Orbax provides a more generalizable API allowing you to save any object asynchronously. In practice, custom async checkpointing logic can be implemented with [`AsyncCheckpointHandler`](https://orbax.readthedocs.io/en/latest/api_reference/checkpoint.checkpoint_handlers.html#asynccheckpointhandler). Also check out our [guide](https://orbax.readthedocs.io/en/latest/guides/checkpoint/custom_handlers.html#asynccheckpointhandler) on custom `CheckpointHandlers` for further details."
      ]
    }
  ],
  "metadata": {
    "colab": {
      "last_runtime": {
        "build_target": "//learning/gemini/cms:notebook",
        "kind": "private"
      },
      "private_outputs": true,
      "provenance": [
        {
          "file_id": "1s_hpHOT8LDCwJIs2F_RLjydShsohIUDM",
          "timestamp": 1698191324810
        }
      ],
      "toc_visible": true
    },
    "kernelspec": {
      "display_name": "Python 3",
      "name": "python3"
    },
    "language_info": {
      "name": "python"
    }
  },
  "nbformat": 4,
  "nbformat_minor": 0
}
