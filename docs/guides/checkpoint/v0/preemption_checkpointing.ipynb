{
  "cells": [
    {
      "cell_type": "markdown",
      "metadata": {
        "id": "tKGlDfvNJM8R"
      },
      "source": [
        "# Preemption Tolerance"
      ]
    },
    {
      "cell_type": "markdown",
      "metadata": {
        "id": "GBiHxvFVCLzh"
      },
      "source": [
        "Orbax provides some important features allowing users to recover quickly from an interruption or preemption in their main training job."
      ]
    },
    {
      "cell_type": "markdown",
      "metadata": {
        "id": "UGEXcQCYCWPC"
      },
      "source": [
        "The first of these features is known variously as preemption checkpointing, on-demand checkpointing, or auto-checkpointing. When the training job receives a preemption signal, a checkpoint can automatically be saved.\n",
        "\n",
        "The main advantage of this feature is that it allows users to shorten their training time when preemptions occur and waste fewer resources, since training can resume immediately from the most recent step."
      ]
    },
    {
      "cell_type": "markdown",
      "metadata": {
        "id": "7jCHQWDzDbPi"
      },
      "source": [
        "Orbax takes advantage of JAX [multihost_utils](https://jax.readthedocs.io/en/latest/jax.experimental.multihost_utils.html) to detect preemptions."
      ]
    },
    {
      "cell_type": "markdown",
      "metadata": {
        "id": "Fkxr--uaDn_3"
      },
      "source": [
        "The feature is enabled by default for users of `CheckpointManager`. Here is an example:"
      ]
    },
    {
      "cell_type": "code",
      "execution_count": null,
      "metadata": {
        "id": "6zGkvi6dDtOg"
      },
      "outputs": [],
      "source": [
        "import orbax.checkpoint as ocp\n",
        "\n",
        "mngr = ocp.CheckpointManager(\n",
        "    '/tmp/mydir/',\n",
        "    ocp.PyTreeCheckpointer(),\n",
        "    ocp.CheckpointManagerOptions(save_interval_steps=4)\n",
        ")\n",
        "\n",
        "def train_step(s):\n",
        "  return s\n",
        "\n",
        "state = {'a': 1, 'b': 2}\n",
        "start_step = 0\n",
        "num_steps = 12\n",
        "if mngr.latest_step() is not None:\n",
        "  start_step = mngr.latest_step()\n",
        "  state = mngr.restore(start_step)\n",
        "\n",
        "for step in range(start_step, num_steps):\n",
        "  state = train_step(state)\n",
        "  mngr.save(step, state)"
      ]
    },
    {
      "cell_type": "markdown",
      "metadata": {
        "id": "-NJTeXjlITaj"
      },
      "source": [
        "Checkpoints are saved at steps 0, 4, and 8. If, for example, a preemption had occurred at step 6, a checkpoint would be saved even though this step doesn't align with the normal save interval. When restarting the program, the `latest_step` would be 6, and training could be resumed from that point without needing to go all the way back to step 4."
      ]
    },
    {
      "cell_type": "markdown",
      "metadata": {
        "id": "5AxOAaWFI90o"
      },
      "source": [
        "To further save resources, we can also exit immediately after the checkpoint is finished saving. This can save several minutes of wasted work, if there is a substantial grace period between the preemption signal received and forced termination of the program."
      ]
    },
    {
      "cell_type": "markdown",
      "metadata": {
        "id": "J5_P_MqaJ0tN"
      },
      "source": [
        "This can be accomplished with small modifications, depicted below. Importantly, if we are at a preemption step, we must wait for the checkpoint to finish writing before exiting. The specific details of the `exit` function depend on the system used to run the training job."
      ]
    },
    {
      "cell_type": "code",
      "execution_count": null,
      "metadata": {
        "id": "F7ipEkU6I8_h"
      },
      "outputs": [],
      "source": [
        "for step in range(start_step, num_steps):\n",
        "  state = train_step(state)\n",
        "  mngr.save(step, state)\n",
        "  if mngr.reached_preemption(step):\n",
        "    mngr.wait_until_finished()\n",
        "    exit()"
      ]
    }
  ],
  "metadata": {
    "colab": {
      "last_runtime": {
        "build_target": "//learning/grp/tools/ml_python:ml_notebook",
        "kind": "private"
      },
      "private_outputs": true,
      "provenance": [
        {
          "file_id": "1bRC6p0AstPPAAW0AUoxHaOFEWpaW_GjI",
          "timestamp": 1688077923387
        }
      ],
      "toc_visible": true
    },
    "kernelspec": {
      "display_name": "Python 3",
      "name": "python3"
    },
    "language_info": {
      "name": "python"
    }
  },
  "nbformat": 4,
  "nbformat_minor": 0
}
