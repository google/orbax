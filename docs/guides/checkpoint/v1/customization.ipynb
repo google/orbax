{
  "cells": [
    {
      "metadata": {
        "id": "t5ckEX0K3SkM"
      },
      "cell_type": "markdown",
      "source": [
        "# Customizing Checkpointing Behavior"
      ]
    },
    {
      "metadata": {
        "id": "8qDeybEg3kM4"
      },
      "cell_type": "markdown",
      "source": [
        "Orbax allows users to specify their own logic for dealing with custom objects.\n",
        "Customization can occur at two levels - the level of a \"checkpointable\", and the\n",
        "level of a \"PyTree leaf\"."
      ]
    },
    {
      "metadata": {
        "id": "Md2_H9f73aXJ"
      },
      "cell_type": "markdown",
      "source": [
        "## Custom Checkpointables"
      ]
    },
    {
      "metadata": {
        "id": "UvwFOZTN3eRW"
      },
      "cell_type": "markdown",
      "source": [
        "First, ensure that you are familiar with the documentation on \"checkpointables\".\n",
        "To recap, a \"checkpointable\" is a distinct unit of an entire checkpoint. For\n",
        "example, the model state is a checkpointable distinct from the dataset iterator.\n",
        "Embeddings, if used, may also be represented as a separate checkpointable."
      ]
    },
    {
      "metadata": {
        "id": "ThMsmaty4cCi"
      },
      "cell_type": "markdown",
      "source": [
        "Let us consider a toy example. Let's say that in addition to our PyTree state\n",
        "(represented as a dictionary of arrays, containing the parameters and optimizer\n",
        "state) and our dataset iteration (represented using PyGrain), we also have an\n",
        "object called `Point`, which has integer properties `x` and `y`. (Obviously,\n",
        "since this object is a dataclass, it would be easy to just convert this to a\n",
        "PyTree, and save it in the same way as the primary model state. So this example\n",
        "is a bit contrived, but demonstrates the point well enough.)\n",
        "\n",
        "Our `Point` class is defined as follows."
      ]
    },
    {
      "metadata": {
        "executionInfo": {
          "elapsed": 53,
          "status": "ok",
          "timestamp": 1750968352657,
          "user": {
            "displayName": "",
            "userId": ""
          },
          "user_tz": 420
        },
        "id": "CE4_g-yp7KGn"
      },
      "cell_type": "code",
      "source": [
        "import dataclasses\n",
        "import json\n",
        "from typing import Any, Awaitable\n",
        "import aiofiles\n",
        "import jax\n",
        "import numpy as np\n",
        "import orbax.checkpoint.experimental.v1 as ocp\n",
        "\n",
        "\n",
        "@dataclasses.dataclass\n",
        "class Point:\n",
        "  x: int\n",
        "  y: int\n",
        "\n",
        "\n",
        "model_state = {\n",
        "    'params': np.arange(16),\n",
        "    'opt_state': np.ones(16),\n",
        "}"
      ],
      "outputs": [],
      "execution_count": 13
    },
    {
      "metadata": {
        "id": "2wsBrg3D7vEj"
      },
      "cell_type": "markdown",
      "source": [
        "If we just try to save the `Point` (along with our other checkpointables), it\n",
        "will fail because the object type is not recognized."
      ]
    },
    {
      "metadata": {
        "executionInfo": {
          "elapsed": 2,
          "status": "ok",
          "timestamp": 1750968352853,
          "user": {
            "displayName": "",
            "userId": ""
          },
          "user_tz": 420
        },
        "id": "GiO6a-k-7ugV",
        "outputId": "86f0445d-5d4d-497e-d4c7-a01364d87c97"
      },
      "cell_type": "code",
      "source": [
        "try:\n",
        "  ocp.save_checkpointables(\n",
        "      '/tmp/ckpt1',\n",
        "      dict(model_state=model_state, point=Point(1, 2)),\n",
        "  )\n",
        "except BaseException as e:\n",
        "  print(e)"
      ],
      "outputs": [
        {
          "name": "stdout",
          "output_type": "stream",
          "text": [
            "Destination /tmp/ckpt1 already exists.\n"
          ]
        }
      ],
      "execution_count": 14
    },
    {
      "metadata": {
        "id": "C_T-lUTeCu_Q"
      },
      "cell_type": "markdown",
      "source": [
        "There are two possible approaches for implementing support for `Point` in Orbax.\n",
        "We will start with the simpler of the two."
      ]
    },
    {
      "metadata": {
        "id": "RP_ANoBbCmu2"
      },
      "cell_type": "markdown",
      "source": [
        "### Implementing `Point` as a `StatefulCheckpointable`"
      ]
    },
    {
      "metadata": {
        "id": "9lH0ozZm7Vv-"
      },
      "cell_type": "markdown",
      "source": [
        "The `Point` object must implement the methods of the `StatefulCheckpointable`\n",
        "Protocol. We need to implement `save` and `load` methods so that Orbax will know\n",
        "how to deal with the `Point` object."
      ]
    },
    {
      "metadata": {
        "executionInfo": {
          "elapsed": 1,
          "status": "ok",
          "timestamp": 1750968353081,
          "user": {
            "displayName": "",
            "userId": ""
          },
          "user_tz": 420
        },
        "id": "aQhswjmF5YQI"
      },
      "cell_type": "code",
      "source": [
        "from __future__ import annotations\n",
        "\n",
        "del Point\n",
        "\n",
        "\n",
        "@dataclasses.dataclass\n",
        "class Point(ocp.StatefulCheckpointable):\n",
        "\n",
        "  x: int\n",
        "  y: int\n",
        "\n",
        "  async def save(\n",
        "      self, directory: ocp.path.PathAwaitingCreation\n",
        "  ) -\u003e Awaitable[None]:\n",
        "    return self._background_save(\n",
        "        directory,\n",
        "        # If the object could be modified by the main thread while being\n",
        "        # written, it is important to make a copy to prevent race conditions.\n",
        "        dataclasses.asdict(self),\n",
        "    )\n",
        "\n",
        "  async def load(self, directory: ocp.path.Path) -\u003e Awaitable[None]:\n",
        "    return self._background_load(directory)\n",
        "\n",
        "  async def _background_save(\n",
        "      self,\n",
        "      directory: ocp.path.PathAwaitingCreation,\n",
        "      value: dict[str, int],\n",
        "  ):\n",
        "    # In a multiprocess setting, prevent multiple processes from writing the\n",
        "    # same thing.\n",
        "    if jax.process_index() == 0:\n",
        "      directory = await directory.await_creation()\n",
        "      async with aiofiles.open(directory / 'point.txt', 'w') as f:\n",
        "        contents = json.dumps(value)\n",
        "        await f.write(contents)\n",
        "\n",
        "  async def _background_load(\n",
        "      self,\n",
        "      directory: ocp.path.Path,\n",
        "  ):\n",
        "    async with aiofiles.open(directory / 'point.txt', 'r') as f:\n",
        "      contents = json.loads(await f.read())\n",
        "      self.x = contents['x']\n",
        "      self.y = contents['y']"
      ],
      "outputs": [],
      "execution_count": 15
    },
    {
      "metadata": {
        "id": "HoVDn46C-4HQ"
      },
      "cell_type": "markdown",
      "source": [
        "Let's break this down.\n",
        "\n",
        "Both `save` and `load` methods consist of two phases: blocking and non-blocking.\n",
        "Blocking operations must execute *now*, before returning control to the caller.\n",
        "Non-blocking operations may occur in a background thread, and are represented by\n",
        "an `Awaitable` function returned back to the caller without being executed\n",
        "(yet).\n",
        "\n",
        "When saving, in the case of `Point`, we make a copy of the properties to prevent\n",
        "them from being concurrently modified by the main thread while we are writing\n",
        "them in the background thread. For a `jax.Array`, we would similarly need to\n",
        "perform a transfer from device memory to host memory. When the blocking\n",
        "operations complete, we can construct an awaitable function that writes the\n",
        "values to a file. Note also that we must wait for the parent directory to be\n",
        "created, since upper layers of Orbax have already scheduled this execution\n",
        "asynchronously.\n",
        "\n",
        "Loading is similar. Typically there are fewer operations that need to happen\n",
        "synchronously, as the caller should know they cannot do anything with the object\n",
        "until it is fully loaded. Again, the awaitable function that is run in the\n",
        "background should return nothing, and instead set relevant properties in `self`\n",
        "after loading from disk."
      ]
    },
    {
      "metadata": {
        "id": "DxDWDbqIB-o0"
      },
      "cell_type": "markdown",
      "source": [
        "Now we can successfully save the `Point`."
      ]
    },
    {
      "metadata": {
        "colab": {
          "height": 373
        },
        "executionInfo": {
          "elapsed": 389,
          "status": "error",
          "timestamp": 1750968353687,
          "user": {
            "displayName": "",
            "userId": ""
          },
          "user_tz": 420
        },
        "id": "P1j7NaWPB9lI",
        "outputId": "2e622d2a-75fe-4bb2-d8f9-461ce1974a51"
      },
      "cell_type": "code",
      "source": [
        "ocp.save_checkpointables(\n",
        "    '/tmp/ckpt1',\n",
        "    dict(model_state=model_state, point=Point(1, 2)),\n",
        ")"
      ],
      "outputs": [
        {
          "debug": {
            "argv": [
              "/export/hda3/borglet/remote_hdd_fs_dirs/0.cpgaffney_colab-kernel-go-cola_173387188.1.kernel.cpgaffney.31838155801385.14b334fb3717c109/mount/server/orbax_colab",
              "kernel",
              "-f",
              "/tmp/ipy-be-r5a4p_wa/profile_colab/security/kernel-64213979-5dab-4c73-9dc7-0d34a90493b7.json",
              "--profile-dir=/tmp/ipy-be-r5a4p_wa/profile_colab",
              "--profile=colab",
              "--ipython-dir=/tmp/ipy-be-9bfo8388",
              "--no-secure"
            ],
            "build": "Built on Thu Jun 26 12:23:03 2025 (1750965783)\nBuilt by cpgaffney@jfcqi20.prod.google.com:/google/src/cloud/buildrabbit-username/buildrabbit-client/\nBuilt as //experimental/users/cpgaffney/colab:orbax_colab\nBuild ID: 7c246950-05d8-469d-9071-cfebf65feb18\nBuilt from changelist 776222222 in a modified client based on //depot/ in CitC workspace  at snapshot 19000\nBuild platform: gcc-4.X.Y-crosstool-v18-llvm-grtev4-haswell.k8\nBuild tool: Blaze, release blaze-2025.06.20-1 (mainline @773197164)\nBuilt with par options [\"--compress\", \"--compress_level=6\"]\nCurrently running under Python 3.12.11: embedded.\n",
            "user": "cpgaffney"
          },
          "ename": "ValueError",
          "evalue": "Destination /tmp/ckpt1 already exists.",
          "output_type": "error",
          "traceback": [
            "\u001b[0;31m---------------------------------------------------------------------------\u001b[0m",
            "\u001b[0;31mValueError\u001b[0m                                Traceback (most recent call last)",
            "\u001b[0;32m/tmp/ipython-input-16-1461526981.py\u001b[0m in \u001b[0;36m\u003ccell line: 0\u003e\u001b[0;34m()\u001b[0m\n\u001b[0;32m----\u003e 1\u001b[0;31m ocp.save_checkpointables(\n\u001b[0m\u001b[1;32m      2\u001b[0m     \u001b[0;34m'/tmp/ckpt1'\u001b[0m\u001b[0;34m,\u001b[0m\u001b[0;34m\u001b[0m\u001b[0;34m\u001b[0m\u001b[0m\n\u001b[1;32m      3\u001b[0m     \u001b[0mdict\u001b[0m\u001b[0;34m(\u001b[0m\u001b[0mmodel_state\u001b[0m\u001b[0;34m=\u001b[0m\u001b[0mmodel_state\u001b[0m\u001b[0;34m,\u001b[0m \u001b[0mpoint\u001b[0m\u001b[0;34m=\u001b[0m\u001b[0mPoint\u001b[0m\u001b[0;34m(\u001b[0m\u001b[0;36m1\u001b[0m\u001b[0;34m,\u001b[0m \u001b[0;36m2\u001b[0m\u001b[0;34m)\u001b[0m\u001b[0;34m)\u001b[0m\u001b[0;34m,\u001b[0m\u001b[0;34m\u001b[0m\u001b[0;34m\u001b[0m\u001b[0m\n\u001b[1;32m      4\u001b[0m )\n",
            "\u001b[0;32m/export/hda3/borglet/remote_hdd_fs_dirs/0.cpgaffney_colab-kernel-go-cola_173387188.1.kernel.cpgaffney.31838155801385.14b334fb3717c109/mount/server/orbax_colab.runfiles//orbax/checkpoint/experimental/v1/_src/saving/saving.py\u001b[0m in \u001b[0;36msave_checkpointables\u001b[0;34m(path, checkpointables, overwrite, custom_metadata)\u001b[0m\n\u001b[1;32m    139\u001b[0m       \u001b[0minformation\u001b[0m\u001b[0;34m.\u001b[0m \u001b[0mThe\u001b[0m \u001b[0mfield\u001b[0m \u001b[0;32mis\u001b[0m \u001b[0mtreated\u001b[0m \u001b[0;32mas\u001b[0m \u001b[0mopaque\u001b[0m \u001b[0mby\u001b[0m \u001b[0mOrbax\u001b[0m\u001b[0;34m.\u001b[0m\u001b[0;34m\u001b[0m\u001b[0;34m\u001b[0m\u001b[0m\n\u001b[1;32m    140\u001b[0m   \"\"\"\n\u001b[0;32m--\u003e 141\u001b[0;31m   _save_checkpointables_impl(\n\u001b[0m\u001b[1;32m    142\u001b[0m       \u001b[0mpath\u001b[0m\u001b[0;34m,\u001b[0m\u001b[0;34m\u001b[0m\u001b[0;34m\u001b[0m\u001b[0m\n\u001b[1;32m    143\u001b[0m       \u001b[0mcheckpointables\u001b[0m\u001b[0;34m,\u001b[0m\u001b[0;34m\u001b[0m\u001b[0;34m\u001b[0m\u001b[0m\n",
            "\u001b[0;32m/export/hda3/borglet/remote_hdd_fs_dirs/0.cpgaffney_colab-kernel-go-cola_173387188.1.kernel.cpgaffney.31838155801385.14b334fb3717c109/mount/server/orbax_colab.runfiles//orbax/checkpoint/experimental/v1/_src/saving/saving.py\u001b[0m in \u001b[0;36m_save_checkpointables_impl\u001b[0;34m(path, checkpointables, async_origin, overwrite, custom_metadata)\u001b[0m\n\u001b[1;32m    466\u001b[0m     \u001b[0;32mreturn\u001b[0m \u001b[0mbackground_awaitable\u001b[0m\u001b[0;34m\u001b[0m\u001b[0;34m\u001b[0m\u001b[0m\n\u001b[1;32m    467\u001b[0m \u001b[0;34m\u001b[0m\u001b[0m\n\u001b[0;32m--\u003e 468\u001b[0;31m   \u001b[0mbackground_awaitable\u001b[0m \u001b[0;34m=\u001b[0m \u001b[0masyncio\u001b[0m\u001b[0;34m.\u001b[0m\u001b[0mrun\u001b[0m\u001b[0;34m(\u001b[0m\u001b[0m_blocking_save\u001b[0m\u001b[0;34m(\u001b[0m\u001b[0;34m)\u001b[0m\u001b[0;34m)\u001b[0m\u001b[0;34m\u001b[0m\u001b[0;34m\u001b[0m\u001b[0m\n\u001b[0m\u001b[1;32m    469\u001b[0m   \u001b[0mblocking_duration_secs\u001b[0m \u001b[0;34m=\u001b[0m \u001b[0mtime\u001b[0m\u001b[0;34m.\u001b[0m\u001b[0mtime\u001b[0m\u001b[0;34m(\u001b[0m\u001b[0;34m)\u001b[0m \u001b[0;34m-\u001b[0m \u001b[0mstart_time\u001b[0m\u001b[0;34m\u001b[0m\u001b[0;34m\u001b[0m\u001b[0m\n\u001b[1;32m    470\u001b[0m   jax.monitoring.record_event_duration_secs(\n",
            "\u001b[0;32m/export/hda3/borglet/remote_hdd_fs_dirs/0.cpgaffney_colab-kernel-go-cola_173387188.1.kernel.cpgaffney.31838155801385.14b334fb3717c109/mount/server/orbax_colab.runfiles//third_party/py/nest_asyncio/__init__.py\u001b[0m in \u001b[0;36mrun\u001b[0;34m(main, debug)\u001b[0m\n\u001b[1;32m     33\u001b[0m         \u001b[0mtask\u001b[0m \u001b[0;34m=\u001b[0m \u001b[0masyncio\u001b[0m\u001b[0;34m.\u001b[0m\u001b[0mensure_future\u001b[0m\u001b[0;34m(\u001b[0m\u001b[0mmain\u001b[0m\u001b[0;34m)\u001b[0m\u001b[0;34m\u001b[0m\u001b[0;34m\u001b[0m\u001b[0m\n\u001b[1;32m     34\u001b[0m         \u001b[0;32mtry\u001b[0m\u001b[0;34m:\u001b[0m\u001b[0;34m\u001b[0m\u001b[0;34m\u001b[0m\u001b[0m\n\u001b[0;32m---\u003e 35\u001b[0;31m             \u001b[0;32mreturn\u001b[0m \u001b[0mloop\u001b[0m\u001b[0;34m.\u001b[0m\u001b[0mrun_until_complete\u001b[0m\u001b[0;34m(\u001b[0m\u001b[0mtask\u001b[0m\u001b[0;34m)\u001b[0m\u001b[0;34m\u001b[0m\u001b[0;34m\u001b[0m\u001b[0m\n\u001b[0m\u001b[1;32m     36\u001b[0m         \u001b[0;32mfinally\u001b[0m\u001b[0;34m:\u001b[0m\u001b[0;34m\u001b[0m\u001b[0;34m\u001b[0m\u001b[0m\n\u001b[1;32m     37\u001b[0m             \u001b[0;32mif\u001b[0m \u001b[0;32mnot\u001b[0m \u001b[0mtask\u001b[0m\u001b[0;34m.\u001b[0m\u001b[0mdone\u001b[0m\u001b[0;34m(\u001b[0m\u001b[0;34m)\u001b[0m\u001b[0;34m:\u001b[0m\u001b[0;34m\u001b[0m\u001b[0;34m\u001b[0m\u001b[0m\n",
            "\u001b[0;32m/export/hda3/borglet/remote_hdd_fs_dirs/0.cpgaffney_colab-kernel-go-cola_173387188.1.kernel.cpgaffney.31838155801385.14b334fb3717c109/mount/server/orbax_colab.runfiles//third_party/py/nest_asyncio/__init__.py\u001b[0m in \u001b[0;36mrun_until_complete\u001b[0;34m(self, future)\u001b[0m\n\u001b[1;32m     88\u001b[0m                 raise RuntimeError(\n\u001b[1;32m     89\u001b[0m                     'Event loop stopped before Future completed.')\n\u001b[0;32m---\u003e 90\u001b[0;31m             \u001b[0;32mreturn\u001b[0m \u001b[0mf\u001b[0m\u001b[0;34m.\u001b[0m\u001b[0mresult\u001b[0m\u001b[0;34m(\u001b[0m\u001b[0;34m)\u001b[0m\u001b[0;34m\u001b[0m\u001b[0;34m\u001b[0m\u001b[0m\n\u001b[0m\u001b[1;32m     91\u001b[0m \u001b[0;34m\u001b[0m\u001b[0m\n\u001b[1;32m     92\u001b[0m     \u001b[0;32mdef\u001b[0m \u001b[0m_run_once\u001b[0m\u001b[0;34m(\u001b[0m\u001b[0mself\u001b[0m\u001b[0;34m)\u001b[0m\u001b[0;34m:\u001b[0m\u001b[0;34m\u001b[0m\u001b[0;34m\u001b[0m\u001b[0m\n",
            "\u001b[0;32m/\u003cembedded stdlib\u003e/asyncio/futures.py\u001b[0m in \u001b[0;36mresult\u001b[0;34m(self)\u001b[0m\n\u001b[1;32m    200\u001b[0m         \u001b[0mself\u001b[0m\u001b[0;34m.\u001b[0m\u001b[0m__log_traceback\u001b[0m \u001b[0;34m=\u001b[0m \u001b[0;32mFalse\u001b[0m\u001b[0;34m\u001b[0m\u001b[0;34m\u001b[0m\u001b[0m\n\u001b[1;32m    201\u001b[0m         \u001b[0;32mif\u001b[0m \u001b[0mself\u001b[0m\u001b[0;34m.\u001b[0m\u001b[0m_exception\u001b[0m \u001b[0;32mis\u001b[0m \u001b[0;32mnot\u001b[0m \u001b[0;32mNone\u001b[0m\u001b[0;34m:\u001b[0m\u001b[0;34m\u001b[0m\u001b[0;34m\u001b[0m\u001b[0m\n\u001b[0;32m--\u003e 202\u001b[0;31m             \u001b[0;32mraise\u001b[0m \u001b[0mself\u001b[0m\u001b[0;34m.\u001b[0m\u001b[0m_exception\u001b[0m\u001b[0;34m.\u001b[0m\u001b[0mwith_traceback\u001b[0m\u001b[0;34m(\u001b[0m\u001b[0mself\u001b[0m\u001b[0;34m.\u001b[0m\u001b[0m_exception_tb\u001b[0m\u001b[0;34m)\u001b[0m\u001b[0;34m\u001b[0m\u001b[0;34m\u001b[0m\u001b[0m\n\u001b[0m\u001b[1;32m    203\u001b[0m         \u001b[0;32mreturn\u001b[0m \u001b[0mself\u001b[0m\u001b[0;34m.\u001b[0m\u001b[0m_result\u001b[0m\u001b[0;34m\u001b[0m\u001b[0;34m\u001b[0m\u001b[0m\n\u001b[1;32m    204\u001b[0m \u001b[0;34m\u001b[0m\u001b[0m\n",
            "\u001b[0;32m/\u003cembedded stdlib\u003e/asyncio/tasks.py\u001b[0m in \u001b[0;36m__step_run_and_handle_result\u001b[0;34m(***failed resolving arguments***)\u001b[0m\n\u001b[1;32m    312\u001b[0m                 \u001b[0;31m# We use the `send` method directly, because coroutines\u001b[0m\u001b[0;34m\u001b[0m\u001b[0;34m\u001b[0m\u001b[0m\n\u001b[1;32m    313\u001b[0m                 \u001b[0;31m# don't have `__iter__` and `__next__` methods.\u001b[0m\u001b[0;34m\u001b[0m\u001b[0;34m\u001b[0m\u001b[0m\n\u001b[0;32m--\u003e 314\u001b[0;31m                 \u001b[0mresult\u001b[0m \u001b[0;34m=\u001b[0m \u001b[0mcoro\u001b[0m\u001b[0;34m.\u001b[0m\u001b[0msend\u001b[0m\u001b[0;34m(\u001b[0m\u001b[0;32mNone\u001b[0m\u001b[0;34m)\u001b[0m\u001b[0;34m\u001b[0m\u001b[0;34m\u001b[0m\u001b[0m\n\u001b[0m\u001b[1;32m    315\u001b[0m             \u001b[0;32melse\u001b[0m\u001b[0;34m:\u001b[0m\u001b[0;34m\u001b[0m\u001b[0;34m\u001b[0m\u001b[0m\n\u001b[1;32m    316\u001b[0m                 \u001b[0mresult\u001b[0m \u001b[0;34m=\u001b[0m \u001b[0mcoro\u001b[0m\u001b[0;34m.\u001b[0m\u001b[0mthrow\u001b[0m\u001b[0;34m(\u001b[0m\u001b[0mexc\u001b[0m\u001b[0;34m)\u001b[0m\u001b[0;34m\u001b[0m\u001b[0;34m\u001b[0m\u001b[0m\n",
            "\u001b[0;32m/export/hda3/borglet/remote_hdd_fs_dirs/0.cpgaffney_colab-kernel-go-cola_173387188.1.kernel.cpgaffney.31838155801385.14b334fb3717c109/mount/server/orbax_colab.runfiles//orbax/checkpoint/experimental/v1/_src/saving/saving.py\u001b[0m in \u001b[0;36m_blocking_save\u001b[0;34m()\u001b[0m\n\u001b[1;32m    452\u001b[0m         \u001b[0;32mawait\u001b[0m \u001b[0m_remove_existing_path\u001b[0m\u001b[0;34m(\u001b[0m\u001b[0mpath\u001b[0m\u001b[0;34m,\u001b[0m \u001b[0mcontext\u001b[0m\u001b[0;34m=\u001b[0m\u001b[0mcontext\u001b[0m\u001b[0;34m)\u001b[0m\u001b[0;34m\u001b[0m\u001b[0;34m\u001b[0m\u001b[0m\n\u001b[1;32m    453\u001b[0m       \u001b[0;32melse\u001b[0m\u001b[0;34m:\u001b[0m\u001b[0;34m\u001b[0m\u001b[0;34m\u001b[0m\u001b[0m\n\u001b[0;32m--\u003e 454\u001b[0;31m         \u001b[0;32mraise\u001b[0m \u001b[0mValueError\u001b[0m\u001b[0;34m(\u001b[0m\u001b[0;34mf'Destination {path} already exists.'\u001b[0m\u001b[0;34m)\u001b[0m\u001b[0;34m\u001b[0m\u001b[0;34m\u001b[0m\u001b[0m\n\u001b[0m\u001b[1;32m    455\u001b[0m \u001b[0;34m\u001b[0m\u001b[0m\n\u001b[1;32m    456\u001b[0m     tmp_path_awaiting_creation = path_async_utils.start_async_mkdir(\n",
            "\u001b[0;31mValueError\u001b[0m: Destination /tmp/ckpt1 already exists."
          ]
        }
      ],
      "execution_count": 16
    },
    {
      "metadata": {
        "id": "gBeWl-y9isWL"
      },
      "cell_type": "markdown",
      "source": [
        "It is important to note that because `Point` is a stateful checkpointable, we\n",
        "have to provide a `Point` object in order to restore it. In typical usage, we\n",
        "should construct a `Point` object with \"uninitialized\" values. Calling\n",
        "`load_checkpointables` then updates the provided object as a side effect (it\n",
        "also returns it)."
      ]
    },
    {
      "metadata": {
        "executionInfo": {
          "elapsed": 53,
          "status": "ok",
          "timestamp": 1750968321125,
          "user": {
            "displayName": "",
            "userId": ""
          },
          "user_tz": 420
        },
        "id": "D5tyzM5tijCM",
        "outputId": "ccb52185-9776-497c-9749-9f2e8f13adb4"
      },
      "cell_type": "code",
      "source": [
        "uninitialized_point = Point(0, 0)\n",
        "ocp.load_checkpointables(\n",
        "    '/tmp/ckpt1',\n",
        "    dict(point=uninitialized_point),\n",
        ")\n",
        "uninitialized_point"
      ],
      "outputs": [
        {
          "data": {
            "text/plain": [
              "Point(x=1, y=2)"
            ]
          },
          "execution_count": 5,
          "metadata": {},
          "output_type": "execute_result"
        }
      ],
      "execution_count": 5
    },
    {
      "metadata": {
        "id": "cmnK2vsPC6A6"
      },
      "cell_type": "markdown",
      "source": [
        "### Supporting `Point` with `CheckpointableHandler`"
      ]
    },
    {
      "metadata": {
        "id": "ZqPLWv5LDCgj"
      },
      "cell_type": "markdown",
      "source": [
        "While `StatefulCheckpointable` has a simple and powerful interface, it may not\n",
        "be the right fit in every case. `StatefulCheckpointable` may be insufficient in\n",
        "cases such as:\n",
        "\n",
        "*   `Point` may be defined in some third-party library that we cannot easily\n",
        "    control, and thus could not directly add `save` and `load` methods to the\n",
        "    class itself.\n",
        "*   When loading, users might need to customize loading behavior in a more\n",
        "    dynamic way. For a `jax.Array`, resharding, casting, and reshaping are\n",
        "    common operations. For a `Point`, users might want to cast `x` and `y`\n",
        "    between `int` and `float` more dynamically.\n",
        "*   We may have multiple different ways to save and load `Point` that users want\n",
        "    to enable in different contexts. In such cases, placing all that different\n",
        "    logic within the single `Point` class may add too much complexity.\n",
        "\n",
        "For such cases (and others), Orbax provides an interface called\n",
        "`CheckpointableHandler`."
      ]
    },
    {
      "metadata": {
        "id": "rb6WSt9odJut"
      },
      "cell_type": "markdown",
      "source": [
        "First, let's redefine our `Point` class and also introduce an `AbstractPoint`\n",
        "class. This allows us to specify the type of `x` or `y` that should be used for\n",
        "loading."
      ]
    },
    {
      "metadata": {
        "executionInfo": {
          "elapsed": 1,
          "status": "ok",
          "timestamp": 1750968321356,
          "user": {
            "displayName": "",
            "userId": ""
          },
          "user_tz": 420
        },
        "id": "QwDZQu6FdJT7"
      },
      "cell_type": "code",
      "source": [
        "del Point\n",
        "import asyncio\n",
        "from typing import Type\n",
        "\n",
        "Scalar = int | float\n",
        "\n",
        "\n",
        "@dataclasses.dataclass\n",
        "class Point:\n",
        "  x: Scalar\n",
        "  y: Scalar\n",
        "\n",
        "\n",
        "@dataclasses.dataclass\n",
        "class AbstractPoint:\n",
        "  x: Type[Scalar]\n",
        "  y: Type[Scalar]"
      ],
      "outputs": [],
      "execution_count": 6
    },
    {
      "metadata": {
        "executionInfo": {
          "elapsed": 51,
          "status": "ok",
          "timestamp": 1750968321623,
          "user": {
            "displayName": "",
            "userId": ""
          },
          "user_tz": 420
        },
        "id": "cJD4Zjj-dB-h"
      },
      "cell_type": "code",
      "source": [
        "async def _write_point(\n",
        "    directory: ocp.path.Path, checkpointable: dict[str, Scalar]\n",
        "):\n",
        "  async with aiofiles.open(directory / 'point.txt', 'w') as f:\n",
        "    contents = json.dumps(checkpointable)\n",
        "    await f.write(contents)\n",
        "\n",
        "\n",
        "async def _write_point_metadata(\n",
        "    directory: ocp.path.Path, checkpointable: dict[str, Scalar]\n",
        "):\n",
        "  async with aiofiles.open(directory / 'point_metadata.txt', 'w') as f:\n",
        "    contents = json.dumps(\n",
        "        {k: type(v).__name__ for k, v in checkpointable.items()}\n",
        "    )\n",
        "    await f.write(contents)\n",
        "\n",
        "\n",
        "class PointHandler(ocp.CheckpointableHandler[Point, AbstractPoint]):\n",
        "\n",
        "  async def _background_save(\n",
        "      self,\n",
        "      directory: ocp.path.PathAwaitingCreation,\n",
        "      checkpointable: dict[str, Scalar],\n",
        "  ):\n",
        "    if jax.process_index() == 0:\n",
        "      directory = await directory.await_creation()\n",
        "      await asyncio.gather(\n",
        "          _write_point(directory, checkpointable),\n",
        "          _write_point_metadata(directory, checkpointable),\n",
        "      )\n",
        "\n",
        "  async def _background_load(\n",
        "      self,\n",
        "      directory: ocp.path.Path,\n",
        "      abstract_checkpointable: AbstractPoint | None = None,\n",
        "  ) -\u003e Point:\n",
        "    async with aiofiles.open(directory / 'point.txt', 'r') as f:\n",
        "      contents = json.loads(await f.read())\n",
        "      if abstract_checkpointable is None:\n",
        "        return Point(**contents)\n",
        "      else:\n",
        "        return Point(\n",
        "            abstract_checkpointable.x(contents['x']),\n",
        "            abstract_checkpointable.y(contents['y']),\n",
        "        )\n",
        "\n",
        "  async def save(\n",
        "      self,\n",
        "      directory: ocp.path.PathAwaitingCreation,\n",
        "      checkpointable: Point,\n",
        "      partial_save: bool = False,\n",
        "  ) -\u003e Awaitable[None]:\n",
        "    return self._background_save(directory, dataclasses.asdict(checkpointable))\n",
        "\n",
        "  async def load(\n",
        "      self,\n",
        "      directory: ocp.path.Path,\n",
        "      abstract_checkpointable: AbstractPoint | None = None,\n",
        "  ) -\u003e Awaitable[Point]:\n",
        "    return self._background_load(directory, abstract_checkpointable)\n",
        "\n",
        "  async def metadata(self, directory: ocp.path.Path) -\u003e AbstractPoint:\n",
        "    async with aiofiles.open(directory / 'point_metadata.txt', 'r') as f:\n",
        "      contents = json.loads(await f.read())\n",
        "      return AbstractPoint(\n",
        "          **{k: getattr(__builtins__, v) for k, v in contents.items()}\n",
        "      )\n",
        "\n",
        "  def is_handleable(self, checkpointable: Any) -\u003e bool:\n",
        "    return isinstance(checkpointable, Point)\n",
        "\n",
        "  def is_abstract_handleable(self, abstract_checkpointable: Any) -\u003e bool:\n",
        "    return isinstance(abstract_checkpointable, AbstractPoint)"
      ],
      "outputs": [],
      "execution_count": 7
    },
    {
      "metadata": {
        "id": "Jz1MK4mah4Eg"
      },
      "cell_type": "markdown",
      "source": [
        "This class associates itself with two types, the `Checkpointable` and the\n",
        "`AbstractCheckpointable` (`Point` and `AbstractPoint` in this case). `Point` is\n",
        "the input for saving, and `AbstractPoint` (or `None`) is the input for loading\n",
        "(as well as the parent directory in both cases).\n",
        "\n",
        "Saving logic in this class is essentially the same as in our\n",
        "`StatefulCheckpointable` definition above.\n",
        "\n",
        "Loading is different because loading is no longer stateful - it instead accepts\n",
        "an optional `AbstractPoint` and returns a newly constructed `Point`. Providing\n",
        "`None` as the input indicates that the object should simply be restored exactly\n",
        "as it was saved. (Note that for some objects, this may not be possible, and it\n",
        "may be necessary to raise an error if some input from the user is required to\n",
        "know how to load.) Otherwise, the provided `AbstractCheckpointable` serves as\n",
        "the guide describing how the concrete loaded object (`Point` in this case)\n",
        "should be constructed.\n",
        "\n",
        "We also have the capability of defining a `metadata` method in this class. In\n",
        "the case of `Point`, the object is obviously quite lightweight already. For real\n",
        "use cases, the checkpoint itself may be expensive to load fully, and some\n",
        "metadata describing important properties that can be loaded cheaply is\n",
        "essential. The `metadata` method should return an instance of\n",
        "`AbstractCheckpointable`.\n",
        "\n",
        "Finally, two additional methods, `is_handleable` and `is_abstract_handleable`\n",
        "should be defined. These methods accept any object, and decide whether the given\n",
        "object is an acceptable input for saving or loading, respectively. In most\n",
        "cases, a simple `isinstance` check will suffice, but for more generic\n",
        "constructs, like `PyTree`s, more involved logic is necessary."
      ]
    },
    {
      "metadata": {
        "id": "W-bw-DgSlooP"
      },
      "cell_type": "markdown",
      "source": [
        "We can now register `PointHandler` in order to deal with `Point` objects."
      ]
    },
    {
      "metadata": {
        "colab": {
          "height": 186
        },
        "executionInfo": {
          "elapsed": 54,
          "status": "ok",
          "timestamp": 1750968321836,
          "user": {
            "displayName": "",
            "userId": ""
          },
          "user_tz": 420
        },
        "id": "3SppTLm3loCA",
        "outputId": "09d7600a-e7b8-41ee-ba8e-30e2625f2bc4"
      },
      "cell_type": "code",
      "source": [
        "ocp.handlers.register_handler(PointHandler)"
      ],
      "outputs": [
        {
          "data": {
            "text/html": [
              "\u003cdiv style=\"max-width:800px; border: 1px solid var(--colab-border-color);\"\u003e\u003cstyle\u003e\n",
              "      pre.function-repr-contents {\n",
              "        overflow-x: auto;\n",
              "        padding: 8px 12px;\n",
              "        max-height: 500px;\n",
              "      }\n",
              "\n",
              "      pre.function-repr-contents.function-repr-contents-collapsed {\n",
              "        cursor: pointer;\n",
              "        max-height: 100px;\n",
              "      }\n",
              "    \u003c/style\u003e\n",
              "    \u003cpre style=\"white-space: initial; background:\n",
              "         var(--colab-secondary-surface-color); padding: 8px 12px;\n",
              "         border-bottom: 1px solid var(--colab-border-color);\"\u003e\u003cb\u003ePointHandler\u003c/b\u003e\u003cbr/\u003edef _no_init_or_replace_init(*args, **kwargs)\u003c/pre\u003e\u003cpre class=\"function-repr-contents function-repr-contents-collapsed\" style=\"\"\u003e\u003ca class=\"filepath\" style=\"display:none\" href=\"#\"\u003e\u003c/a\u003eAn interface that defines save/load logic for a `checkpointable` object.\n",
              "\n",
              "NOTE: Prefer to use `Checkpointable` interface when possible.\n",
              "\n",
              "A \u0026quot;checkpointable\u0026quot; is a fundamental concept in Orbax. A “checkpointable”\n",
              "refers to a logical piece of the checkpoint that is distinct in some way from\n",
              "other pieces. Checkpointables are separable; they may or may not be loaded\n",
              "concurrently and some may be omitted from the checkpoint entirely.\n",
              "Checkpointables are often represented by different types, and have different\n",
              "representations on disk. The quintessential example is model params vs.\n",
              "dataset.\n",
              "\n",
              "A PyTree of arrays, representing model parameters, is the most basic\n",
              "\u0026quot;checkpointable\u0026quot;. A singular array is also a checkpointable.\n",
              "\n",
              "In most contexts, when dealing with just a PyTree, the API of choice is::\n",
              "\n",
              "  ocp.save_pytree(directory, pytree)\n",
              "\n",
              "The concept of \u0026quot;checkpointable\u0026quot; is not so obvious in this case. When dealing\n",
              "with multiple objects, we can use::\n",
              "\n",
              "  ocp.save_checkpointables(\n",
              "      directory,\n",
              "      dict(\n",
              "          pytree=model_params,\n",
              "          dataset=dataset_iterator,\n",
              "          # other checkpointables, e.g. extra metadata, etc.\n",
              "      ),\n",
              "  )\n",
              "\n",
              "Now, it is easy to simply skip loading the dataset, as is commonly desired\n",
              "when running evals or inference::\n",
              "\n",
              "  ocp.load_checkpointables(\n",
              "      directory,\n",
              "      dict(\n",
              "          pytree=abstract_model_params,\n",
              "      ),\n",
              "  )\n",
              "  # Equivalently,\n",
              "  ocp.load_pytree(directory, abstract_model_params)\n",
              "\n",
              "With the methods defined in this Protocol (`save`, `load`),\n",
              "logic within the method itself is executed in the main thread,\n",
              "in a blocking fashion. Additional logic can be executed in the background by\n",
              "returning an `Awaitable` function (which itself may return a result).\n",
              "\n",
              "Let\u0026#x27;s look at some suggestions on how to implement a `CheckpointableHandler`.\n",
              "TODO(b/398249409): Include more details on implementing this Protocol.\n",
              "\n",
              "First, take a look at\n",
              "orbax/checkpoint/experimental/v1/_src/testing/handler_utils.py\n",
              "for some toy implementations used for unit testing.\n",
              "\n",
              "Here are some details on how to implement `is_handleable` and\n",
              "`is_abstract_handleable`.\n",
              "\n",
              "For example, if a handler may be defined as follows::\n",
              "\n",
              "  class FooHandler(CheckpointableHandler[Foo, AbstractFoo]):\n",
              "\n",
              "    def is_handleable(self, checkpointable: Foo) -\u0026gt; bool:\n",
              "      return isinstance(foo, Foo)\n",
              "\n",
              "    def is_abstract_handleable(\n",
              "        self, abstract_checkpointable: AbstractFoo) -\u0026gt; bool:\n",
              "      return isinstance(abstract_foo, AbstractFoo)\n",
              "\n",
              "This is simple because the handler only works with `Foo` and `AbstractFoo`.\n",
              "But the handler may work on more generic types. In a toy\n",
              "example, let\u0026#x27;s say we\u0026#x27;ve developed an improved way of storing very large\n",
              "arrays, which is still suboptimal for more normal-sized arrays. We can\n",
              "implement the handler as::\n",
              "\n",
              "  class FooHandler(CheckpointableHandler[jax.Array, jax.ShapeDtypeStruct]):\n",
              "\n",
              "    def is_handleable(self, checkpointable: jax.Array) -\u0026gt; bool:\n",
              "      return (\n",
              "          isinstance(checkpointable, jax.Array)\n",
              "          and checkpointable.size \u0026gt; LARGE_ARRAY_THRESHOLD\n",
              "      )\n",
              "\n",
              "    def is_abstract_handleable(\n",
              "        self, abstract_checkpointable: jax.ShapeDtypeStruct) -\u0026gt; bool:\n",
              "      return (\n",
              "          isinstance(abstract_checkpointable, jax.ShapeDtypeStruct)\n",
              "          and abstract_checkpointable.size \u0026gt; LARGE_ARRAY_THRESHOLD\n",
              "      )\n",
              "\n",
              "In many cases, no information is needed for loading. In this case,\n",
              "`AbstractT` may be defined as `None`. For example::\n",
              "\n",
              "  class FooHandler(CheckpointableHandler[Foo, None]):\n",
              "\n",
              "    def is_handleable(self, checkpointable: Foo) -\u0026gt; bool:\n",
              "      return isinstance(checkpointable, Foo)\n",
              "\n",
              "    def is_abstract_handleable(self, abstract_checkpointable: None) -\u0026gt; bool:\n",
              "      return abstract_checkpointable is None\u003c/pre\u003e\u003c/div\u003e"
            ],
            "text/plain": [
              "__main__.PointHandler"
            ]
          },
          "execution_count": 8,
          "metadata": {},
          "output_type": "execute_result"
        }
      ],
      "execution_count": 8
    },
    {
      "metadata": {
        "executionInfo": {
          "elapsed": 53,
          "status": "ok",
          "timestamp": 1750968322148,
          "user": {
            "displayName": "",
            "userId": ""
          },
          "user_tz": 420
        },
        "id": "zycxEIDUl0r_"
      },
      "cell_type": "code",
      "source": [
        "ocp.save_checkpointables(\n",
        "    '/tmp/ckpt2',\n",
        "    dict(model_state=model_state, point=Point(1, 2.4)),\n",
        ")"
      ],
      "outputs": [],
      "execution_count": 9
    },
    {
      "metadata": {
        "id": "H9myCOBUl8_Z"
      },
      "cell_type": "markdown",
      "source": [
        "Since the `AbstractPoint` is optional, we do not need to specify any arguments\n",
        "to load everything successfully."
      ]
    },
    {
      "metadata": {
        "executionInfo": {
          "elapsed": 52,
          "status": "ok",
          "timestamp": 1750968322354,
          "user": {
            "displayName": "",
            "userId": ""
          },
          "user_tz": 420
        },
        "id": "BG8uFJYgl6LB",
        "outputId": "393c8093-e370-4dc6-c971-fefc5d1e41e2"
      },
      "cell_type": "code",
      "source": [
        "ocp.load_checkpointables('/tmp/ckpt2')"
      ],
      "outputs": [
        {
          "data": {
            "text/plain": [
              "{'model_state': {'opt_state': array([1., 1., 1., 1., 1., 1., 1., 1., 1., 1., 1., 1., 1., 1., 1., 1.]),\n",
              "  'params': array([ 0,  1,  2,  3,  4,  5,  6,  7,  8,  9, 10, 11, 12, 13, 14, 15])},\n",
              " 'point': Point(x=1, y=2.4)}"
            ]
          },
          "execution_count": 10,
          "metadata": {},
          "output_type": "execute_result"
        }
      ],
      "execution_count": 10
    },
    {
      "metadata": {
        "id": "9sNqzsBOmdom"
      },
      "cell_type": "markdown",
      "source": [
        "However, if desired, we can specify an abstract checkpointable to customize the\n",
        "dtypes of the restored values."
      ]
    },
    {
      "metadata": {
        "executionInfo": {
          "elapsed": 52,
          "status": "ok",
          "timestamp": 1750968322554,
          "user": {
            "displayName": "",
            "userId": ""
          },
          "user_tz": 420
        },
        "id": "t5vxFp19mnKQ",
        "outputId": "d93c6808-e2a9-4260-e249-352cfa5f32f9"
      },
      "cell_type": "code",
      "source": [
        "ocp.load_checkpointables(\n",
        "    '/tmp/ckpt2', dict(point=AbstractPoint(x=float, y=int))\n",
        ")"
      ],
      "outputs": [
        {
          "data": {
            "text/plain": [
              "{'point': Point(x=1.0, y=2)}"
            ]
          },
          "execution_count": 11,
          "metadata": {},
          "output_type": "execute_result"
        }
      ],
      "execution_count": 11
    },
    {
      "metadata": {
        "id": "SBbGu5152Oz_"
      },
      "cell_type": "markdown",
      "source": [
        "We can use `checkpointables_metadata` to load the metadata, in the form of an\n",
        "`AbstractPoint`."
      ]
    },
    {
      "metadata": {
        "executionInfo": {
          "elapsed": 52,
          "status": "ok",
          "timestamp": 1750968322790,
          "user": {
            "displayName": "",
            "userId": ""
          },
          "user_tz": 420
        },
        "id": "jUrsVdO4yeM6",
        "outputId": "b0deb356-579d-4d0e-c9e9-683d270fff5e"
      },
      "cell_type": "code",
      "source": [
        "ocp.checkpointables_metadata('/tmp/ckpt2').metadata['point']"
      ],
      "outputs": [
        {
          "data": {
            "text/plain": [
              "AbstractPoint(x=\u003cclass 'int'\u003e, y=\u003cclass 'float'\u003e)"
            ]
          },
          "execution_count": 12,
          "metadata": {},
          "output_type": "execute_result"
        }
      ],
      "execution_count": 12
    }
  ],
  "metadata": {
    "colab": {
      "last_runtime": {
        "build_target": "//experimental/users/cpgaffney/colab:orbax_colab",
        "kind": "private"
      },
      "provenance": []
    },
    "kernelspec": {
      "display_name": "Python 3",
      "name": "python3"
    },
    "language_info": {
      "name": "python"
    }
  },
  "nbformat": 4,
  "nbformat_minor": 0
}
