{
  "cells": [
    {
      "cell_type": "markdown",
      "metadata": {
        "id": "GYCcRRZas1PS"
      },
      "source": [
        "# Working with PyTree Checkpoints"
      ]
    },
    {
      "cell_type": "markdown",
      "metadata": {
        "id": "iJwUDQVA7GIV"
      },
      "source": [
        "A [PyTree](https://jax.readthedocs.io/en/latest/pytrees.html) is the most common way of representing a training state in JAX. While Orbax is designed to be as generic as possible, and provides customization options for all manner of checkpointable objects, PyTrees naturally have pride of place. Furthermore, the standard object used to represent large, sharded arrays is the `jax.Array`. This, too, has extensive first-class support."
      ]
    },
    {
      "cell_type": "markdown",
      "metadata": {
        "id": "Vfj9mDHsb7QF"
      },
      "source": [
        "## Exclusive APIs to checkpoint PyTrees"
      ]
    },
    {
      "cell_type": "markdown",
      "metadata": {
        "id": "e3JtbxFhVq_6"
      },
      "source": [
        "The following APIs can be used to checkpoint PyTrees exclusively.\n",
        "\n",
        "To save:\n",
        "\n",
        "* `ocp.save_pytree(...)`\n",
        "* `ocp.save_pytree_async(...)`\n",
        "* `training.Checkpointer.save_pytree(...)`\n",
        "* `training.Checkpointer.save_pytree_async(...)`\n",
        "\n",
        "To load:\n",
        "* `ocp.load_pytree(...)`\n",
        "* `ocp.load_pytree_async(...)`\n",
        "* `training.Checkpointer.load_pytree(...)`\n",
        "* `training.Checkpointer.load_pytree_async(...)`\n",
        "\n",
        "Of course, the `save_checkpointables(...)` and `load_checkpointables(...)`\n",
        "flavor APIs can be used to save a PyTree too."
      ]
    },
    {
      "cell_type": "markdown",
      "metadata": {
        "id": "ej99peApVq_7"
      },
      "source": [
        "Let's setup a PyTree of jax.Array to play with these APIs."
      ]
    },
    {
      "cell_type": "code",
      "execution_count": null,
      "metadata": {
        "id": "6NknwqBeVq_7"
      },
      "outputs": [],
      "source": [
        "from etils import epath\n",
        "import jax\n",
        "import numpy as np\n",
        "import orbax.checkpoint.experimental.v1 as ocp"
      ]
    },
    {
      "cell_type": "code",
      "execution_count": null,
      "metadata": {
        "id": "b0j19QxuVq_7"
      },
      "outputs": [],
      "source": [
        "sharding = jax.sharding.NamedSharding(\n",
        "    jax.sharding.Mesh(jax.devices(), ('model',)),\n",
        "    jax.sharding.PartitionSpec(\n",
        "        'model',\n",
        "    ),\n",
        ")\n",
        "create_sharded_array = lambda x: jax.device_put(x, sharding)\n",
        "pytree = {\n",
        "    'a': np.arange(16, dtype=np.int32),\n",
        "    'b': np.ones(16, dtype=np.int32),\n",
        "}\n",
        "pytree = jax.tree_util.tree_map(create_sharded_array, pytree)\n",
        "pytree"
      ]
    },
    {
      "cell_type": "markdown",
      "metadata": {
        "id": "Kf_OCzGbVq_8"
      },
      "source": [
        "## Basic Checkpointing"
      ]
    },
    {
      "cell_type": "markdown",
      "metadata": {
        "id": "sU2YIn10Vq_8"
      },
      "source": [
        "Let's use `ocp.save_*`/`ocp.load_*` to work with the pytree created earlier."
      ]
    },
    {
      "cell_type": "code",
      "execution_count": null,
      "metadata": {
        "id": "Szq9yBPhVq_8"
      },
      "outputs": [],
      "source": [
        "path = epath.Path('/tmp/basic/')\n",
        "path.rmtree(missing_ok=True)\n",
        "\n",
        "# Simple save using default options:\n",
        "ocp.save_pytree(path, pytree)"
      ]
    },
    {
      "cell_type": "markdown",
      "metadata": {
        "id": "Kr6nrYg3QR73"
      },
      "source": [
        "We can easily restore using the following snippet.\n",
        "\n",
        "**Warning: do not use for production-sensitive cases.**"
      ]
    },
    {
      "cell_type": "code",
      "execution_count": null,
      "metadata": {
        "id": "CtEMu9BBRHYW"
      },
      "outputs": [],
      "source": [
        "loaded = ocp.load_pytree(path)\n",
        "loaded"
      ]
    },
    {
      "cell_type": "markdown",
      "metadata": {
        "id": "F-CPPqeaRRks"
      },
      "source": [
        "It is not recommended to load this way for production-sensitive cases because the user cannot make any guarantees about what they are loading. If the shapes of some arrays have changed in the model since the checkpoint was saved, errors can be seen when attempting to create the model. If the device topology has changed, we will see errors when attempting to place arrays on devices.\n",
        "\n",
        "It is therefore recommended that users always specify an **abstract pytree** when loading."
      ]
    },
    {
      "cell_type": "markdown",
      "metadata": {
        "id": "R1Sbx3DYQMpS"
      },
      "source": [
        "### Understanding Abstract Trees and Leaves"
      ]
    },
    {
      "cell_type": "markdown",
      "metadata": {
        "id": "4f8Ze-q3R5XE"
      },
      "source": [
        "An **abstract PyTree** is just a normal PyTree, but with abstract leaves. An **abstract leaf** is a cheap representation of a leaf type (such as an array) that contains only metadata, and does not represent the real values. (Contrast with a *concrete* PyTree, which contains real data in the form of large arrays, and other types.)"
      ]
    },
    {
      "cell_type": "markdown",
      "metadata": {
        "id": "PVyCvC7VaisK"
      },
      "source": [
        "Let's create an abstract PyTree matching the structure of the PyTree we originally saved."
      ]
    },
    {
      "cell_type": "code",
      "execution_count": null,
      "metadata": {
        "id": "u5JJaHrYVq_7"
      },
      "outputs": [],
      "source": [
        "abstract_pytree = {\n",
        "    'a': jax.ShapeDtypeStruct(shape=(16,), dtype=np.int32, sharding=sharding),\n",
        "    'b': jax.ShapeDtypeStruct(shape=(16,), dtype=np.int32, sharding=sharding),\n",
        "}\n",
        "abstract_pytree"
      ]
    },
    {
      "cell_type": "code",
      "execution_count": null,
      "metadata": {
        "id": "0GCij-iuVq_8"
      },
      "outputs": [],
      "source": [
        "# Load using abstract_pytree.\n",
        "loaded = ocp.load_pytree(path, abstract_pytree)\n",
        "loaded"
      ]
    },
    {
      "cell_type": "code",
      "execution_count": null,
      "metadata": {
        "id": "TjOlZAkTVq_8"
      },
      "outputs": [],
      "source": [
        "(loaded['a'].sharding, loaded['b'].sharding)"
      ]
    },
    {
      "cell_type": "markdown",
      "metadata": {
        "id": "tQ6L_wtnVq_8"
      },
      "source": [
        "The `pytree_metadata` method returns a `CheckpointMetadata` object with a number of properties, but the core `metadata` property is just an abstract PyTree. This can also be used for loading as shown below."
      ]
    },
    {
      "cell_type": "code",
      "execution_count": null,
      "metadata": {
        "id": "_sJOi2I3Vq_8"
      },
      "outputs": [],
      "source": [
        "pytree_metadata = ocp.pytree_metadata(path).metadata\n",
        "pytree_metadata"
      ]
    },
    {
      "cell_type": "code",
      "execution_count": null,
      "metadata": {
        "id": "1SQMyU44Vq_8"
      },
      "outputs": [],
      "source": [
        "loaded = ocp.load_pytree(path, pytree_metadata)\n",
        "loaded"
      ]
    },
    {
      "cell_type": "code",
      "execution_count": null,
      "metadata": {
        "id": "jGTdk0tVVq_8"
      },
      "outputs": [],
      "source": [
        "(loaded['a'].sharding, loaded['b'].sharding)"
      ]
    },
    {
      "cell_type": "markdown",
      "metadata": {
        "id": "U7URSieWVq_8"
      },
      "source": [
        "Note that it is also valid to provide a \"concrete\" PyTree for loading rather than an \"abstract\" target, since by definition, the concrete leaves contain all the same properties provided by the abstract leaves.\n",
        "\n",
        "However, this requires that you fully initialize the target train state\n",
        "before loading from the checkpoint, which is inefficient or impractical for real use cases. It is better practice to only initialize metadata (either by manually creating `jax.ShapeDtypeStruct`s or using `jax.eval_shape`)."
      ]
    },
    {
      "cell_type": "code",
      "execution_count": null,
      "metadata": {
        "id": "3JfwbnA_Vq_8"
      },
      "outputs": [],
      "source": [
        "ocp.load_pytree(path, pytree)"
      ]
    },
    {
      "cell_type": "markdown",
      "metadata": {
        "id": "wjpnDhAqb6t0"
      },
      "source": [
        "### Standard Leaf Types"
      ]
    },
    {
      "cell_type": "markdown",
      "metadata": {
        "id": "p6yM2hBGdNXZ"
      },
      "source": [
        "The following standard leaf types are supported by Orbax by default. Each concrete leaf type has a corresponding abstract leaf type. Most abstract types are implemented as `Protocol`'s, so that any object implementing the required properties can be accepted as a valid abstract type."
      ]
    },
    {
      "cell_type": "markdown",
      "metadata": {
        "id": "G0oCkcDZb8g_"
      },
      "source": [
        "| `Leaf` Type | `AbstractLeaf` Type | Properties |\n",
        ":------- | :-------- | :-------- |\n",
        "|`jax.Array`|`AbstractShardedArray` (`jax.ShapeDtypeStruct`) |`shape`, `dtype`, `sharding`|\n",
        "|`np.ndarray`|`AbstractArray` (`np.ndarray`) |`shape`, `dtype`|\n",
        "|`int`|`int`|  |\n",
        "|`float`|`float`| |\n",
        "|`bytes`|`bytes`| |\n",
        "|`str`|`str`| |"
      ]
    },
    {
      "cell_type": "markdown",
      "metadata": {
        "id": "01zrVpfcdq7m"
      },
      "source": [
        "`None` is always a valid abstract leaf; it serves as an indication that the leaf should be restored using metadata stored in the checkpoint.\n",
        "\n",
        "`Type[AbstractLeaf]` is also always a valid abstract leaf; it again serves as an indication that the leaf should be restored using the metadata, but with the additional constraint to load as the indicated type. For example, instead of specifying `jax.ShapeDtypeStruct(shape=..., dtype=..., sharding=...)`, it is sufficient to pass `jax.ShapeDtypeStruct`. Similarly, instead of passing `0` to restore as an `int`, the type itself may be passed."
      ]
    },
    {
      "metadata": {
        "id": "nRn_2IgV09xT"
      },
      "cell_type": "markdown",
      "source": [
        "To summarize, here are the ways you can load a PyTree using abstract leaves, with the way we most recommend at the top, and the way we least recommend at the bottom.\n",
        "\n",
        "**1. Fully-specified abstract values**\n",
        "\n",
        "This provides the most loading validations and requires the least amount of\n",
        "unnecessary metadata reads.\n",
        "\n",
        "```\n",
        "abstract_pytree = {\n",
        "  'a': jax.ShapeDtypeStruct(shape=..., dtype=..., sharding=jax.sharding.NamedSharding(...))\n",
        "}\n",
        "```\n",
        "\n",
        "**2. Only types specified**\n",
        "\n",
        "This guarantees that each leaf will be loaded with the indicated type, but metadata\n",
        "will be used to restore specific properties for each leaf.\n",
        "\n",
        "```\n",
        "abstract_pytree = {\n",
        "  'a': jax.ShapeDtypeStruct,\n",
        "  'b': int,\n",
        "  'c': np.ndarray,\n",
        "}\n",
        "```\n",
        "\n",
        "**3. `None` specified (per-leaf)**\n",
        "\n",
        "This is essentially the same as (2), but metadata will also be used to decide\n",
        "which type each leaf should be loaded as.\n",
        "\n",
        "```\n",
        "abstract_pytree = {\n",
        "  'a': None,\n",
        "  'b': None,\n",
        "}\n",
        "```\n",
        "\n",
        "**4. `None` specified**\n",
        "\n",
        "This loads the PyTree structure without any checks, and can lead to errors later\n",
        "in your code if the checkpoint does not have the structure you expect.\n",
        "\n",
        "```\n",
        "abstract_pytree = None\n",
        "```"
      ]
    },
    {
      "cell_type": "markdown",
      "metadata": {
        "id": "UR34KTImVq_8"
      },
      "source": [
        "### Customizing Loaded Properties for Arrays"
      ]
    },
    {
      "cell_type": "markdown",
      "metadata": {
        "id": "TErvR-zDVq_8"
      },
      "source": [
        "#### Array dtype"
      ]
    },
    {
      "cell_type": "code",
      "execution_count": null,
      "metadata": {
        "id": "ZDSJhefZVq_8"
      },
      "outputs": [],
      "source": [
        "def set_loading_dtype(x: jax.ShapeDtypeStruct) -\u003e jax.ShapeDtypeStruct:\n",
        "  return x.update(dtype=np.int16)\n",
        "\n",
        "\n",
        "cast_dtype_abstract_pytree = jax.tree_util.tree_map(\n",
        "    set_loading_dtype, abstract_pytree\n",
        ")"
      ]
    },
    {
      "cell_type": "code",
      "execution_count": null,
      "metadata": {
        "id": "scZbqSQ4Vq_8"
      },
      "outputs": [],
      "source": [
        "ocp.load_pytree(path, cast_dtype_abstract_pytree)"
      ]
    },
    {
      "cell_type": "markdown",
      "metadata": {
        "id": "rhkTT9wMVq_8"
      },
      "source": [
        "#### Change sharding"
      ]
    },
    {
      "cell_type": "markdown",
      "metadata": {
        "id": "NLjuYubRVq_8"
      },
      "source": [
        "**NOTE: This can often be a particularly sharp edge.**\n",
        "\n",
        "Sharding commonly needs to be changed when loading a checkpoint saved on one topology to a different topology.\n",
        "\n",
        "**If changing topologies, you MUST specify sharding when loading.**\n",
        "\n",
        "Unless you are loading on the exact same topology, Orbax does not make any decisions about shardings on your behalf. If you have the exact same topology,\n",
        "however, it is possible to avoid specifying the sharding when loading. This is demonstrated below:"
      ]
    },
    {
      "cell_type": "code",
      "execution_count": null,
      "metadata": {
        "id": "atPqix9IVq_8"
      },
      "outputs": [],
      "source": [
        "loaded = ocp.load_pytree(path)"
      ]
    },
    {
      "cell_type": "code",
      "execution_count": null,
      "metadata": {
        "id": "Pap_vpN9Vq_8"
      },
      "outputs": [],
      "source": [
        "(loaded['a'].sharding, loaded['b'].sharding)"
      ]
    },
    {
      "cell_type": "markdown",
      "metadata": {
        "id": "T_T3QjRLVq_8"
      },
      "source": [
        "In the example below, we alter the sharding while loading."
      ]
    },
    {
      "cell_type": "code",
      "execution_count": null,
      "metadata": {
        "id": "J0tvS901Vq_8"
      },
      "outputs": [],
      "source": [
        "sharding = jax.sharding.NamedSharding(\n",
        "    jax.sharding.Mesh(jax.devices(), ('x',)),\n",
        "    jax.sharding.PartitionSpec(),\n",
        ")\n",
        "\n",
        "\n",
        "def set_sharding(x: jax.ShapeDtypeStruct) -\u003e jax.ShapeDtypeStruct:\n",
        "  return x.update(sharding=sharding)\n",
        "\n",
        "\n",
        "change_sharding_abstract_pytree = jax.tree_util.tree_map(\n",
        "    set_sharding, abstract_pytree\n",
        ")\n",
        "loaded = ocp.load_pytree(path, change_sharding_abstract_pytree)"
      ]
    },
    {
      "cell_type": "code",
      "execution_count": null,
      "metadata": {
        "id": "M84bx2smVq_8"
      },
      "outputs": [],
      "source": [
        "(loaded['a'].sharding, loaded['b'].sharding)"
      ]
    },
    {
      "cell_type": "markdown",
      "metadata": {
        "id": "zA_Vdck2Vq_8"
      },
      "source": [
        "We can use pytree metadata instead of the abstract pytree."
      ]
    },
    {
      "cell_type": "code",
      "execution_count": null,
      "metadata": {
        "id": "cAN_1Xj_Vq_8"
      },
      "outputs": [],
      "source": [
        "pytree_metadata = ocp.pytree_metadata(path).metadata\n",
        "change_sharding_pytree_metadata = jax.tree_util.tree_map(\n",
        "    lambda x: jax.ShapeDtypeStruct(shape=x.shape, dtype=x.dtype, sharding=sharding), pytree_metadata\n",
        ")\n",
        "loaded = ocp.load_pytree(path, change_sharding_pytree_metadata)\n",
        "(loaded['a'].sharding, loaded['b'].sharding)"
      ]
    },
    {
      "cell_type": "markdown",
      "metadata": {
        "id": "sIj3AYAidwvh"
      },
      "source": [
        "#### Change leaf type"
      ]
    },
    {
      "cell_type": "markdown",
      "metadata": {
        "id": "01BAYxDGez1T"
      },
      "source": [
        "The abstract leaf type dictates the loaded type for each leaf. If we save a value as a `jax.Array` but provide an abstract leaf without the required `sharding` property, Orbax will load as `np.ndarray`. Similarly, we can save as an `int` and load as a `float` if we specify `float` as the abstract leaf."
      ]
    },
    {
      "cell_type": "code",
      "execution_count": null,
      "metadata": {
        "id": "cDdy1bk0dzDk"
      },
      "outputs": [],
      "source": [
        "path = epath.Path('/tmp/change-type/')\n",
        "path.rmtree(missing_ok=True)\n",
        "\n",
        "pytree_with_scalars = {\n",
        "    'a': np.asarray(12),\n",
        "    'b': 13.5,\n",
        "    'c': create_sharded_array(np.arange(8)),\n",
        "}\n",
        "ocp.save_pytree(path, pytree_with_scalars)"
      ]
    },
    {
      "cell_type": "code",
      "execution_count": null,
      "metadata": {
        "id": "UxWeE0E8eg52"
      },
      "outputs": [],
      "source": [
        "abstract_pytree_with_scalars = {\n",
        "    'a': float,\n",
        "    'b': int,\n",
        "    'c': np.empty((8,)),\n",
        "}\n",
        "ocp.load_pytree(path, abstract_pytree_with_scalars)"
      ]
    },
    {
      "cell_type": "markdown",
      "metadata": {
        "id": "LBSbal0hVq_8"
      },
      "source": [
        "### Partial Loading\n",
        "\n",
        "You may wish to load part of a PyTree contained within a saved checkpoint. For example, consider the following item:"
      ]
    },
    {
      "cell_type": "code",
      "execution_count": null,
      "metadata": {
        "id": "96Zk1nrzVq_8"
      },
      "outputs": [],
      "source": [
        "original_item = {\n",
        "    'params': {\n",
        "        'layer1': {\n",
        "            'kernel': np.arange(8),\n",
        "            'bias': np.arange(8),\n",
        "        },\n",
        "        'layer2': {\n",
        "            'kernel': np.arange(8),\n",
        "            'bias': np.arange(8),\n",
        "        },\n",
        "    },\n",
        "    'opt_state': [np.arange(8), np.arange(8)],\n",
        "    'step': 101,\n",
        "}\n",
        "\n",
        "path = epath.Path('/tmp/partial/')\n",
        "path.rmtree(missing_ok=True)\n",
        "\n",
        "ocp.save_pytree(path / '1', original_item)"
      ]
    },
    {
      "cell_type": "markdown",
      "metadata": {
        "id": "g9q0W8GoVq_8"
      },
      "source": [
        "If we want to load only a subset of PyTree nodes (`params.layer2` and `step`, for example), we can use Placeholder values."
      ]
    },
    {
      "cell_type": "markdown",
      "metadata": {
        "id": "s9WFY0vuVq_8"
      },
      "source": [
        "#### Placeholder\n",
        "\n",
        "To load part of a PyTree item, we can specify which nodes to ignore during loading by using `...` (`ocp.PLACEHOLDER`)."
      ]
    },
    {
      "cell_type": "code",
      "execution_count": null,
      "metadata": {
        "id": "NHreKKn8Vq_9"
      },
      "outputs": [],
      "source": [
        "reference_item = {\n",
        "    'params': {\n",
        "        'layer1': {\n",
        "            'kernel': ...,\n",
        "            'bias': ...,\n",
        "        },\n",
        "        'layer2': {\n",
        "            'kernel': np.arange(8),\n",
        "            'bias': np.arange(8),\n",
        "        },\n",
        "    },\n",
        "    'opt_state': [..., ...],\n",
        "    'step': 101,\n",
        "}\n",
        "\n",
        "ocp.load_pytree(path / '1', reference_item)"
      ]
    },
    {
      "cell_type": "markdown",
      "metadata": {
        "id": "MH3hBSxPVq_9"
      },
      "source": [
        "## Advanced Customizations"
      ]
    },
    {
      "cell_type": "markdown",
      "metadata": {
        "id": "nZcttkVHVq_9"
      },
      "source": [
        "`ocp.Context` enables more customizations.\n",
        "\n",
        "For customized save/load behavior, these APIs should be invoked within a `ocp.Context`\n",
        "instance, which in turn can be configured with a number of options like Saving, Loading,\n",
        "FileOptions etc.\n",
        "\n",
        "The usage pattern is as follows:\n",
        "```\n",
        "with ocp.Context(\n",
        "  pytree_options=PyTreeOptions(...),\n",
        "  file_options=FileOptions(...),\n",
        "):\n",
        "  ocp.save_pytree(path, pytree)\n",
        "```\n",
        "\n",
        "Let's explore few examples. Please also take a look at API Reference for specific option details."
      ]
    },
    {
      "cell_type": "markdown",
      "metadata": {
        "id": "CY0cRK32Vq_9"
      },
      "source": [
        "### Saving"
      ]
    },
    {
      "cell_type": "markdown",
      "metadata": {
        "id": "DpuH7FMHVq_9"
      },
      "source": [
        "#### Customizing Array dtype"
      ]
    },
    {
      "cell_type": "markdown",
      "metadata": {
        "id": "bq3Hj3-aVq_9"
      },
      "source": [
        "we can customize the on-disk type used to save individual arrays. First, let's save and load as normal."
      ]
    },
    {
      "cell_type": "code",
      "execution_count": null,
      "metadata": {
        "id": "FZt44Li_Vq_9"
      },
      "outputs": [],
      "source": [
        "path = epath.Path('/tmp/advanced/')\n",
        "path.rmtree(missing_ok=True)"
      ]
    },
    {
      "cell_type": "code",
      "execution_count": null,
      "metadata": {
        "id": "68BXPuRcVq_9"
      },
      "outputs": [],
      "source": [
        "ocp.save_pytree(path / '1', pytree)"
      ]
    },
    {
      "cell_type": "code",
      "execution_count": null,
      "metadata": {
        "id": "LcXASaTWVq_9"
      },
      "outputs": [],
      "source": [
        "loaded = ocp.load_pytree(path / '1')"
      ]
    },
    {
      "cell_type": "code",
      "execution_count": null,
      "metadata": {
        "id": "WnCRCzlOVq_9"
      },
      "outputs": [],
      "source": [
        "(loaded['a'].dtype, loaded['b'].dtype)"
      ]
    },
    {
      "cell_type": "markdown",
      "metadata": {
        "id": "yhb3Py_9Vq_9"
      },
      "source": [
        "Now, let's set the dtype of selective array when saving."
      ]
    },
    {
      "cell_type": "code",
      "execution_count": null,
      "metadata": {
        "id": "9VpoTnHmVq_9"
      },
      "outputs": [],
      "source": [
        "def create_array_storage_options_fn(keypath, value):\n",
        "  del value\n",
        "  last_key = keypath[-1]\n",
        "  if isinstance(last_key, jax.tree_util.GetAttrKey) and last_key.name == 'a':\n",
        "    return ocp.options.ArrayOptions.Saving.StorageOptions(\n",
        "        dtype=np.dtype(np.int16)\n",
        "    )\n",
        "  else:\n",
        "    return ocp.options.ArrayOptions.Saving.StorageOptions()\n",
        "\n",
        "\n",
        "with ocp.Context(\n",
        "    pytree_options=ocp.options.PyTreeOptions(\n",
        "        saving=ocp.options.PyTreeOptions.Saving(\n",
        "            create_array_storage_options_fn=create_array_storage_options_fn,\n",
        "        )\n",
        "    )\n",
        "):\n",
        "  ocp.save_pytree(path / '2', pytree, overwrite=True)"
      ]
    },
    {
      "cell_type": "code",
      "execution_count": null,
      "metadata": {
        "id": "mHh_ucu_Vq_9"
      },
      "outputs": [],
      "source": [
        "loaded = ocp.load_pytree(path / '2')"
      ]
    },
    {
      "cell_type": "code",
      "execution_count": null,
      "metadata": {
        "id": "sDHCc2s4Vq_9"
      },
      "outputs": [],
      "source": [
        "(loaded['a'].dtype, loaded['b'].dtype)"
      ]
    },
    {
      "cell_type": "markdown",
      "metadata": {
        "id": "P58IxTVHVq_9"
      },
      "source": [
        "Now, let's set the dtype of all arrays when saving."
      ]
    },
    {
      "cell_type": "code",
      "execution_count": null,
      "metadata": {
        "id": "W-k7jRWFVq_9"
      },
      "outputs": [],
      "source": [
        "create_array_storage_options_fn = (\n",
        "    lambda k, v: ocp.options.ArrayOptions.Saving.StorageOptions(\n",
        "        dtype=np.dtype(np.int16)\n",
        "    )\n",
        ")\n",
        "with ocp.Context(\n",
        "    pytree_options=ocp.options.PyTreeOptions(\n",
        "        saving=ocp.options.PyTreeOptions.Saving(\n",
        "            create_array_storage_options_fn=create_array_storage_options_fn\n",
        "        )\n",
        "    )\n",
        "):\n",
        "  ocp.save_pytree(path / '3', pytree, overwrite=True)"
      ]
    },
    {
      "cell_type": "code",
      "execution_count": null,
      "metadata": {
        "id": "Cgs_vBOWVq_9"
      },
      "outputs": [],
      "source": [
        "loaded = ocp.load_pytree(path / '3')"
      ]
    },
    {
      "cell_type": "code",
      "execution_count": null,
      "metadata": {
        "id": "9acbLs7CVq_9"
      },
      "outputs": [],
      "source": [
        "(loaded['a'].dtype, loaded['b'].dtype)"
      ]
    },
    {
      "cell_type": "markdown",
      "metadata": {
        "id": "XZZq8Nxelxwn"
      },
      "source": [
        "#### High Throughput with `ocdbt` option"
      ]
    },
    {
      "cell_type": "markdown",
      "metadata": {
        "id": "GhMBAVqDn1s2"
      },
      "source": [
        "For high throughput and avoid creating separate subdirectories for each leaf, enable `use_ocdbt`. Please note that it is enabled by default."
      ]
    },
    {
      "cell_type": "code",
      "execution_count": null,
      "metadata": {
        "id": "W_FD_od_mb8z"
      },
      "outputs": [],
      "source": [
        "with ocp.Context(\n",
        "    array_options=ocp.options.ArrayOptions(\n",
        "        saving=ocp.options.ArrayOptions.Saving(\n",
        "            use_ocdbt=True,\n",
        "        )\n",
        "    )\n",
        "):\n",
        "  ocp.save_pytree(path / '4', pytree, overwrite=True)"
      ]
    },
    {
      "cell_type": "markdown",
      "metadata": {
        "id": "G6Cm0PYcoIF4"
      },
      "source": [
        "A checkpoint created with this option enabled can be identified by presence of files `manifest.ocdbt` and subdirs like `ocdbt.process_*`."
      ]
    },
    {
      "cell_type": "code",
      "execution_count": null,
      "metadata": {
        "id": "IA4tTKDGoGlf"
      },
      "outputs": [],
      "source": [
        "!ls /tmp/advanced/4/pytree"
      ]
    },
    {
      "cell_type": "markdown",
      "metadata": {
        "id": "GqA8Kdk6orZc"
      },
      "source": [
        "However, for use cases like large stacked models, disabling this option may be more efficient."
      ]
    },
    {
      "cell_type": "code",
      "execution_count": null,
      "metadata": {
        "id": "qJvm7QxCpUOT"
      },
      "outputs": [],
      "source": [
        "with ocp.Context(\n",
        "    array_options=ocp.options.ArrayOptions(\n",
        "        saving=ocp.options.ArrayOptions.Saving(\n",
        "            use_ocdbt=False,\n",
        "        )\n",
        "    )\n",
        "):\n",
        "  ocp.save_pytree(path / '5', pytree, overwrite=True)\n",
        "\n",
        "!ls /tmp/advanced/5/pytree"
      ]
    },
    {
      "cell_type": "markdown",
      "metadata": {
        "id": "-OZF-uwBpb8y"
      },
      "source": [
        "Please note how each leaf is written in its own subdir when `use_ocdbt=False`."
      ]
    },
    {
      "cell_type": "markdown",
      "metadata": {
        "id": "_AnAJYT8Vq_9"
      },
      "source": [
        "### Loading"
      ]
    },
    {
      "cell_type": "markdown",
      "metadata": {
        "id": "5aTJ6eUJVq_9"
      },
      "source": [
        "#### Pad / truncate shape"
      ]
    },
    {
      "cell_type": "markdown",
      "metadata": {
        "id": "2Qg0HbH3Vq_9"
      },
      "source": [
        "Ordinarily, specifying a target array with a different shape than in the\n",
        "checkpoint results in an error."
      ]
    },
    {
      "cell_type": "code",
      "execution_count": null,
      "metadata": {
        "id": "p1I0sfNEVq_9"
      },
      "outputs": [],
      "source": [
        "# Original shape.\n",
        "loaded = ocp.load_pytree(path / '1')\n",
        "\n",
        "(loaded['a'].shape, loaded['b'].shape)"
      ]
    },
    {
      "cell_type": "code",
      "execution_count": null,
      "metadata": {
        "id": "2X8mMPBkVq_9"
      },
      "outputs": [],
      "source": [
        "different_shape_abstract_pytree = {\n",
        "    'a': jax.ShapeDtypeStruct(\n",
        "        shape=(8,),\n",
        "        dtype=abstract_pytree['a'].dtype,\n",
        "        sharding=abstract_pytree['a'].sharding,\n",
        "    ),\n",
        "    'b': jax.ShapeDtypeStruct(\n",
        "        shape=(32,),\n",
        "        dtype=abstract_pytree['b'].dtype,\n",
        "        sharding=abstract_pytree['b'].sharding,\n",
        "    ),\n",
        "}\n",
        "\n",
        "try:\n",
        "  ocp.load_pytree(path / '1', different_shape_abstract_pytree)\n",
        "except BaseException as e:\n",
        "  print(e)"
      ]
    },
    {
      "cell_type": "markdown",
      "metadata": {
        "id": "HMPpVIiLVq_9"
      },
      "source": [
        "We can pad or truncate arrays as they are loaded by specifying `enable_padding_and_truncation=True`."
      ]
    },
    {
      "cell_type": "code",
      "execution_count": null,
      "metadata": {
        "id": "Rbu-q1upVq_9"
      },
      "outputs": [],
      "source": [
        "with ocp.Context(\n",
        "    array_options=ocp.options.ArrayOptions(\n",
        "        loading=ocp.options.ArrayOptions.Loading(\n",
        "            enable_padding_and_truncation=True\n",
        "        )\n",
        "    )\n",
        "):\n",
        "  loaded = ocp.load_pytree(path / '1', different_shape_abstract_pytree)"
      ]
    },
    {
      "cell_type": "code",
      "execution_count": null,
      "metadata": {
        "id": "HP6gm2HEVq_9"
      },
      "outputs": [],
      "source": [
        "(loaded['a'].shape, loaded['b'].shape)"
      ]
    }
  ],
  "metadata": {
    "colab": {
      "last_runtime": {
        "build_target": "//experimental/users/cpgaffney/colab:orbax_colab",
        "kind": "private"
      },
      "private_outputs": true,
      "provenance": [
        {
          "file_id": "1QNxBBBN16Br9Xj-a7LvtJzJWjOBhjFps",
          "timestamp": 1686159333109
        }
      ],
      "toc_visible": true
    },
    "kernelspec": {
      "display_name": "Python 3",
      "name": "python3"
    },
    "language_info": {
      "name": "python"
    }
  },
  "nbformat": 4,
  "nbformat_minor": 0
}
