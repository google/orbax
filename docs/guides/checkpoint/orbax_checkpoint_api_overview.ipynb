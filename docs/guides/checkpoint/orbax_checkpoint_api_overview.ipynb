{
  "cells": [
    {
      "metadata": {
        "id": "UFuWr7-bLyeS"
      },
      "cell_type": "markdown",
      "source": [
        "# API Overview"
      ]
    },
    {
      "metadata": {
        "id": "la9M_RGvZ6fv"
      },
      "cell_type": "code",
      "source": [
        "import orbax.checkpoint as ocp\n",
        "from orbax.checkpoint.checkpoint_managers import preservation_policy as preservation_policy_lib\n",
        "from orbax.checkpoint.checkpoint_managers import save_decision_policy as save_decision_policy_lib\n",
        "import jax\n",
        "import numpy as np\n",
        "from jax import numpy as jnp\n",
        "\n",
        "path = ocp.test_utils.erase_and_create_empty('/tmp/my-checkpoints/')\n",
        "\n",
        "state = {'layer0': {'bias': np.ones((4,)), 'weight': jnp.arange(16)}}\n",
        "abstract_state = jax.tree.map(ocp.tree.to_shape_dtype_struct, state)\n",
        "metadata = {'version': 1.0}\n",
        "extra_metadata = {'version': 1.0, 'step': 0}\n",
        "dataset = {'my_data': 2}"
      ],
      "outputs": [],
      "execution_count": null
    },
    {
      "metadata": {
        "id": "ackGl1L5M9w5"
      },
      "cell_type": "markdown",
      "source": [
        "## CheckpointManager Layer"
      ]
    },
    {
      "metadata": {
        "id": "OcusSC4jNBxz",
        "language": "markdown"
      },
      "cell_type": "markdown",
      "source": [
        "The  most high-level API layer provided by Orbax is the [`CheckpointManager`](https://orbax.readthedocs.io/en/latest/api_reference/checkpoint.checkpoint_manager.html). This is the API of choice for users dealing with a series of checkpoints denoted as steps in the context of a training run."
      ]
    },
    {
      "metadata": {
        "id": "Zhq4_JYANyE_"
      },
      "cell_type": "markdown",
      "source": [
        "`CheckpointManagerOptions` allows customizing the behavior of the `CheckpointManager` along various dimensions. A partial list of important customization options is given below. See the API reference for a complete list.\n",
        "\n",
        "*   `save_decision_policy`: A policy that determines when to save checkpoints.\n",
        "*   `preservation_policy`: A policy that determines which checkpoints to keep.\n",
        "*   `step_format_fixed_length`: Formats with leading `n` digits. This can make visually examining the checkpoints in sorted order easier.\n",
        "*   `cleanup_tmp_directories`: Automatically cleans up existing temporary/incomplete directories when the `CheckpointManager` is created.\n",
        "*   `read_only`: If True, then checkpoints save and delete are skipped. Restore works as usual.\n",
        "*   `enable_async_checkpointing`: True by default. Be wary of turning off, as save performance may be significantly impacted."
      ]
    },
    {
      "metadata": {
        "id": "Lmbp14qjjl9-"
      },
      "cell_type": "markdown",
      "source": [
        "If dealing with a single checkpointable object, like a train state, `CheckpointManager` can be created as follows:\n",
        "\n"
      ]
    },
    {
      "metadata": {
        "id": "e839OeUkAk2w"
      },
      "cell_type": "markdown",
      "source": [
        "Note that `CheckpointManager` always saves asynchronously, unless you set  `enable_async_checkpointing=False` in `CheckpointManagerOptions`. Make sure to use `wait_until_finished()` if you need to block until a save is complete."
      ]
    },
    {
      "metadata": {
        "id": "1SdZeqofgP-a"
      },
      "cell_type": "markdown",
      "source": [
        "### Basic Usage"
      ]
    },
    {
      "metadata": {
        "id": "5XQiz0MXj_Nc"
      },
      "cell_type": "code",
      "source": [
        "import jax\n",
        "\n",
        "directory = ocp.test_utils.erase_and_create_empty('/tmp/checkpoint-manager-single/')"
      ],
      "outputs": [],
      "execution_count": 2
    },
    {
      "metadata": {
        "id": "MXhFQTo9jrHc"
      },
      "cell_type": "code",
      "source": [
        "options = ocp.CheckpointManagerOptions(\n",
        "    save_decision_policy=save_decision_policy_lib.FixedIntervalPolicy(2),\n",
        "    preservation_policy=preservation_policy_lib.LatestN(2),\n",
        "    # other options\n",
        ")\n",
        "mngr = ocp.CheckpointManager(\n",
        "    directory,\n",
        "    options=options,\n",
        ")"
      ],
      "outputs": [],
      "execution_count": 5
    },
    {
      "metadata": {
        "id": "BS4NMHwukWpx"
      },
      "cell_type": "code",
      "source": [
        "num_steps = 5\n",
        "\n",
        "def train_step(state):\n",
        "  return jax.tree_util.tree_map(lambda x: x + 1, state)\n",
        "\n",
        "for step in range(num_steps):\n",
        "  state = train_step(state)\n",
        "  mngr.save(step, args=ocp.args.StandardSave(state))\n",
        "mngr.wait_until_finished()"
      ],
      "outputs": [],
      "execution_count": null
    },
    {
      "metadata": {
        "id": "xiuLapZ5kyAo"
      },
      "cell_type": "code",
      "source": [
        "mngr.latest_step()"
      ],
      "outputs": [],
      "execution_count": null
    },
    {
      "metadata": {
        "id": "Ofu5ML1Ak1du"
      },
      "cell_type": "code",
      "source": [
        "mngr.all_steps()"
      ],
      "outputs": [],
      "execution_count": null
    },
    {
      "metadata": {
        "id": "MelC1FBXk2sH"
      },
      "cell_type": "code",
      "source": [
        "mngr.restore(mngr.latest_step())"
      ],
      "outputs": [],
      "execution_count": null
    },
    {
      "metadata": {
        "id": "curPlwXCk8IV"
      },
      "cell_type": "code",
      "source": [
        "# Restore with additional arguments, like dtype or sharding.\n",
        "def set_dtype(abstract_arr):\n",
        "  return abstract_arr.update(dtype=np.float32)\n",
        "\n",
        "mngr.restore(mngr.latest_step(), args=ocp.args.StandardRestore(\n",
        "    jax.tree.map(set_dtype, abstract_state)))"
      ],
      "outputs": [],
      "execution_count": null
    },
    {
      "metadata": {
        "id": "mDh-IRhUgIJ0"
      },
      "cell_type": "markdown",
      "source": [
        "### Managing Multiple Items"
      ]
    },
    {
      "metadata": {
        "id": "htixsGLrmAD-"
      },
      "cell_type": "markdown",
      "source": [
        "Often, we need to deal with multiple items, representing the training state, dataset, and some custom metadata, for instance."
      ]
    },
    {
      "metadata": {
        "id": "jOdOthW2mqgC"
      },
      "cell_type": "code",
      "source": [
        "directory = ocp.test_utils.erase_and_create_empty('/tmp/checkpoint-manager-multiple/')"
      ],
      "outputs": [],
      "execution_count": null
    },
    {
      "metadata": {
        "id": "x-6_0oYdmuSe"
      },
      "cell_type": "code",
      "source": [
        "options = ocp.CheckpointManagerOptions(\n",
        "    save_decision_policy=save_decision_policy_lib.FixedIntervalPolicy(2),\n",
        "    preservation_policy=preservation_policy_lib.LatestN(2),\n",
        "    # other options\n",
        ")\n",
        "mngr = ocp.CheckpointManager(\n",
        "    directory,\n",
        "    options=options,\n",
        ")"
      ],
      "outputs": [],
      "execution_count": null
    },
    {
      "metadata": {
        "id": "Ab8CgvfVm8_c"
      },
      "cell_type": "code",
      "source": [
        "num_steps = 5\n",
        "\n",
        "def train_step(step, _state, _extra_metadata):\n",
        "  return jax.tree_util.tree_map(lambda x: x + 1, _state), {**_extra_metadata, **{'step': step}}\n",
        "\n",
        "for step in range(num_steps):\n",
        "  state, extra_metadata = train_step(step, state, extra_metadata)\n",
        "  mngr.save(\n",
        "      step,\n",
        "      args=ocp.args.Composite(\n",
        "        state=ocp.args.StandardSave(state),\n",
        "        extra_metadata=ocp.args.JsonSave(extra_metadata),\n",
        "      )\n",
        "  )\n",
        "mngr.wait_until_finished()"
      ],
      "outputs": [],
      "execution_count": null
    },
    {
      "metadata": {
        "id": "Kh00Mr-fnePY"
      },
      "cell_type": "code",
      "source": [
        "# Restore exactly as saved\n",
        "result = mngr.restore(mngr.latest_step())"
      ],
      "outputs": [],
      "execution_count": null
    },
    {
      "metadata": {
        "id": "mGAeYMEcnzJg"
      },
      "cell_type": "code",
      "source": [
        "result"
      ],
      "outputs": [],
      "execution_count": null
    },
    {
      "metadata": {
        "id": "UhOid4Pcn0Xm"
      },
      "cell_type": "code",
      "source": [
        "result.state"
      ],
      "outputs": [],
      "execution_count": null
    },
    {
      "metadata": {
        "id": "rWcK2-n3n1Dp"
      },
      "cell_type": "code",
      "source": [
        "result.extra_metadata"
      ],
      "outputs": [],
      "execution_count": null
    },
    {
      "metadata": {
        "id": "SueZMwQxnvS3"
      },
      "cell_type": "code",
      "source": [
        "# Skip `state` when restoring.\n",
        "# Note that it is possible to provide `extra_metadata=None` because we already\n",
        "# saved using `JsonSave`. This is internally cached, so we know it uses JSON\n",
        "# logic to save and restore. If you had called `restore` without first calling\n",
        "# `save`, however, it would have been necessary to provide\n",
        "# `ocp.args.JsonRestore`.\n",
        "mngr.restore(mngr.latest_step(), args=ocp.args.Composite(extra_metadata=None))"
      ],
      "outputs": [],
      "execution_count": null
    },
    {
      "metadata": {
        "id": "mRxTflYUnh27"
      },
      "cell_type": "code",
      "source": [
        "# Restoration of the state can be customized by specifying an abstract state.\n",
        "# For example, we can change the dtypes to automatically cast the restored\n",
        "# arrays.\n",
        "def set_dtype(abstract_arr):\n",
        "  return abstract_arr.update(dtype=np.float32)\n",
        "\n",
        "mngr.restore(\n",
        "    mngr.latest_step(),\n",
        "    args=ocp.args.Composite(\n",
        "      state=ocp.args.StandardRestore(jax.tree.map(set_dtype, abstract_state)),\n",
        "      extra_metadata=None\n",
        "    )\n",
        ")"
      ],
      "outputs": [],
      "execution_count": null
    },
    {
      "metadata": {
        "id": "6Yori7xSdYtw"
      },
      "cell_type": "markdown",
      "source": [
        "There are some when the mapping between items and respective `CheckpointHandler`s need to be provided at the time of creating a `CheckpointManager` instance.\n",
        "\n",
        "CheckpointManager constructor argument, `item_handlers`, enables to resolve those scenarios. Please see [Using the Refactored CheckpointManager API](https://orbax.readthedocs.io/en/latest/guides/checkpoint/api_refactor.html) for the details.\n",
        "\n"
      ]
    },
    {
      "metadata": {
        "id": "ezKPjN1IRy6v"
      },
      "cell_type": "markdown",
      "source": [
        "## Checkpointer Layer"
      ]
    },
    {
      "metadata": {
        "id": "pAzQ5wWPUo96"
      },
      "cell_type": "markdown",
      "source": [
        "Conceptually, the [`Checkpointer`](https://orbax.readthedocs.io/en/latest/api_reference/checkpoint.checkpointers.html) exists to work with a single checkpoint that exists at a single path. It is no frills (relative to `CheckpointManager`) but guarantees atomicity and allows for asynchronous saving via `AsyncCheckpointer`."
      ]
    },
    {
      "metadata": {
        "id": "50fzRYxSZZZY"
      },
      "cell_type": "markdown",
      "source": [
        "### Saving and Restoring a PyTree"
      ]
    },
    {
      "metadata": {
        "id": "WuTMqsplZpzd"
      },
      "cell_type": "markdown",
      "source": [
        "Typically, you may wish to save and restore a PyTree of arrays to a given path.\n",
        "This is easily accomplished with `StandardCheckpointer`."
      ]
    },
    {
      "metadata": {
        "id": "9SHcfRvYC0C3"
      },
      "cell_type": "code",
      "source": [
        "with ocp.StandardCheckpointer() as ckptr:\n",
        "  ckptr.save(path / 'standard-ckpt-1', state)\n",
        "  result = ckptr.restore(path / 'standard-ckpt-1', abstract_state)\n",
        "  print(result)"
      ],
      "outputs": [],
      "execution_count": null
    },
    {
      "metadata": {
        "id": "4AxeYOlacCC8"
      },
      "cell_type": "markdown",
      "source": [
        "Note that `StandardCheckpointer` always saves asynchronously! In order to block until a save completes, use `ckptr.wait_until_finished()`."
      ]
    },
    {
      "metadata": {
        "id": "-JmLi1JCbKDn"
      },
      "cell_type": "markdown",
      "source": [
        "Equivalently, this can be expressed as follows (see the following section):"
      ]
    },
    {
      "metadata": {
        "id": "s0LsGXajCLZ1"
      },
      "cell_type": "code",
      "source": [
        "with ocp.AsyncCheckpointer(ocp.StandardCheckpointHandler()) as ckptr:\n",
        "  ckptr.save(path / 'standard-ckpt-2', args=ocp.args.StandardSave(state))"
      ],
      "outputs": [],
      "execution_count": null
    },
    {
      "metadata": {
        "id": "vDgns6SvZWQV"
      },
      "cell_type": "markdown",
      "source": [
        "### Understanding Checkpointers"
      ]
    },
    {
      "metadata": {
        "id": "OujTKCY-U_v9"
      },
      "cell_type": "markdown",
      "source": [
        "When greater customization of save and restore behavior is desired, Orbax must be instructed which logic to use to save and restore a given object. This is achieved by combining a `Checkpointer` with a `CheckpointHandler`. You can think of the `CheckpointHandler` as providing a configuration that tells the `Checkpointer` what serialization logic to use to deal with a particular object, while the `Checkpointer` provides shared logic used by all `CheckpointHandler`s, like thread management and atomicity."
      ]
    },
    {
      "metadata": {
        "id": "mJlUX527YmtM"
      },
      "cell_type": "code",
      "source": [
        "with ocp.Checkpointer(ocp.JsonCheckpointHandler()) as ckptr:\n",
        "  ckptr.save(path / 'json-ckpt-1', args=ocp.args.JsonSave({'a': 'b'}))"
      ],
      "outputs": [],
      "execution_count": null
    },
    {
      "metadata": {
        "id": "ss-thT6SMbJN"
      },
      "cell_type": "markdown",
      "source": [
        "Async checkpointing provided via `AsyncCheckpointer` can often help to realize significant resource savings and training speedups because write to disk happens in a background thread. See [here](https://orbax.readthedocs.io/en/latest/guides/checkpoint/async_checkpointing.html) for more details."
      ]
    },
    {
      "metadata": {
        "id": "jXoImFXCMJ6a"
      },
      "cell_type": "code",
      "source": [
        "ckptr = ocp.AsyncCheckpointer(ocp.StandardCheckpointHandler())"
      ],
      "outputs": [],
      "execution_count": null
    },
    {
      "metadata": {
        "id": "s8Sn6VJ3MtsM"
      },
      "cell_type": "markdown",
      "source": [
        "While most `Checkpointer`/`CheckpointHandler` pairs deal with a single object that is saved and restored, pairing a `Checkpointer` with `CompositeCheckpointHandler` allows dealing with multiple distinct objects at once."
      ]
    },
    {
      "metadata": {
        "id": "bcQ38H4VYuEx"
      },
      "cell_type": "code",
      "source": [
        "with ocp.Checkpointer(ocp.CompositeCheckpointHandler()) as ckptr:\n",
        "  ckptr.save(\n",
        "      path / 'composite-ckpt-1',\n",
        "      args=ocp.args.Composite(\n",
        "          state=ocp.args.StandardSave(state),\n",
        "          metadata=ocp.args.JsonSave(metadata),\n",
        "      )\n",
        "  )"
      ],
      "outputs": [],
      "execution_count": null
    },
    {
      "metadata": {
        "id": "GTD8wsB7B5P7"
      },
      "cell_type": "markdown",
      "source": [
        "## Understanding Items and Registration"
      ]
    },
    {
      "metadata": {
        "id": "z8UemPxODT8c"
      },
      "cell_type": "markdown",
      "source": [
        "Let's return to the subject of \"items\". This is the term Orbax uses to refer to logically distinct checkpointable units. These units may be bundled together as part of the same state, but it is frequently convenient to maintain some separation between them, as they are often used for very different purposes.\n",
        "\n",
        "Some common examples may include the training state, dataset, embeddings, custom metadata, etc.\n",
        "\n",
        "Each of these items may require different logic in order to save, and it is neither possible nor desirable for Orbax to \"just figure it out\" automatically. It is important to have confidence that the item you're saving is being saved as you expect it to be."
      ]
    },
    {
      "metadata": {
        "id": "9c1Si2HgiXpm"
      },
      "cell_type": "markdown",
      "source": [
        "You can see a list of available handlers available for checkpointing different objects in the [API reference](https://orbax.readthedocs.io/en/latest/api_reference/checkpoint.args.html). In the case where none of these meet your needs, you can [create your own](https://orbax.readthedocs.io/en/latest/guides/checkpoint/custom_handlers.html)."
      ]
    },
    {
      "metadata": {
        "id": "wfIfyKEoEqSo"
      },
      "cell_type": "markdown",
      "source": [
        "Let's return to our standard example. In this section we will always use `CheckpointManager`, but all the following principles apply in the same way when using `Checkpointer(CompositeCheckpointHandler())`."
      ]
    },
    {
      "metadata": {
        "id": "jzQoGaxTCAMi"
      },
      "cell_type": "code",
      "source": [
        "directory = ocp.test_utils.erase_and_create_empty('/tmp/checkpoint-manager-items-1/')\n",
        "\n",
        "mngr = ocp.CheckpointManager(directory)\n",
        "mngr.save(\n",
        "    0,\n",
        "    args=ocp.args.Composite(\n",
        "      state=ocp.args.StandardSave(state),\n",
        "      extra_metadata=ocp.args.JsonSave(extra_metadata),\n",
        "    )\n",
        ")\n",
        "restored = mngr.restore(0)\n",
        "print(restored.state)\n",
        "print(restored.extra_metadata)"
      ],
      "outputs": [],
      "execution_count": null
    },
    {
      "metadata": {
        "id": "YeTnEhYtg13C"
      },
      "cell_type": "markdown",
      "source": [
        "For any given item, be it `state`, `extra_metadata`, the first `arg` used to save or restore a given item is then \"locked in\" and used for all subsequent saves and restores. This is what allows us to restore without specifying any arguments."
      ]
    },
    {
      "metadata": {
        "id": "bNg2t2qUgpzm"
      },
      "cell_type": "code",
      "source": [
        "mngr.save(1, args=ocp.args.Composite(\n",
        "    state=ocp.args.StandardSave(state), extra_metadata=None))\n",
        "restored = mngr.restore(1)\n",
        "print(restored.state)\n",
        "print(restored.extra_metadata)"
      ],
      "outputs": [],
      "execution_count": null
    },
    {
      "metadata": {
        "id": "Bx7YaITn2e3-"
      },
      "cell_type": "markdown",
      "source": [
        "We can also obtain metadata about our saved state, again without needing to specify any arguments."
      ]
    },
    {
      "metadata": {
        "id": "jBkLRtjM2knS"
      },
      "cell_type": "code",
      "source": [
        "meta = mngr.item_metadata(1)\n",
        "print(meta.state)\n",
        "mngr.close()"
      ],
      "outputs": [],
      "execution_count": null
    },
    {
      "metadata": {
        "id": "nr2Bx5p73NRu"
      },
      "cell_type": "markdown",
      "source": [
        "However, if we create a new `CheckpointManager` and try to get metadata or restore, we will get an error because the `CheckpointHandler for `state` is not configured. `item_metadata`, in contrast, does not raise an error, but returns None, so we have some indication that the item exists, but could not be reconstructed."
      ]
    },
    {
      "metadata": {
        "id": "gDSEgYO83W_G"
      },
      "cell_type": "code",
      "source": [
        "with ocp.CheckpointManager(directory) as mngr:\n",
        "  try:\n",
        "    print(mngr.restore(0))\n",
        "  except BaseException as e:\n",
        "    print(e)\n",
        "  print('')\n",
        "  print(mngr.item_metadata(0))"
      ],
      "outputs": [],
      "execution_count": null
    },
    {
      "metadata": {
        "id": "k_YgbDAe3sfv"
      },
      "cell_type": "markdown",
      "source": [
        "To fix this, we can pre-configure with a handler registry in order to specify the behavior that should be taken when restoring a particular item."
      ]
    },
    {
      "metadata": {
        "id": "NnQrGdmg3rT-"
      },
      "cell_type": "code",
      "source": [
        "registry = ocp.handlers.DefaultCheckpointHandlerRegistry()\n",
        "registry.add('state', ocp.args.StandardSave)\n",
        "registry.add('state', ocp.args.StandardRestore)\n",
        "with ocp.CheckpointManager(\n",
        "    directory,\n",
        "    handler_registry=registry,\n",
        ") as mngr:\n",
        "  print(mngr.restore(0, args=ocp.args.Composite(state=None)))\n",
        "  print('')\n",
        "  print(mngr.item_metadata(0))"
      ],
      "outputs": [],
      "execution_count": null
    },
    {
      "metadata": {
        "id": "QzfPFk_1Gczw"
      },
      "cell_type": "markdown",
      "source": [
        "As previously mentioned, once we have \"locked in\" the type for an item, either through eager configuration with the registry, or lazy configuration by providing `args`, we cannot change the item type without reinitializing the `CheckpointManager`."
      ]
    },
    {
      "metadata": {
        "id": "i3mVlZjbGwrK"
      },
      "cell_type": "code",
      "source": [
        "with ocp.CheckpointManager(\n",
        "    directory,\n",
        "    handler_registry=registry,\n",
        ") as mngr:\n",
        "  mngr.save(2, args=ocp.args.PyTreeSave({'a': 'b'}))\n",
        "  try:\n",
        "    print(mngr.save(3, args=ocp.args.JsonSave({'a': 'b'})))\n",
        "  except BaseException as e:\n",
        "    print(e)"
      ],
      "outputs": [],
      "execution_count": null
    },
    {
      "metadata": {
        "id": "aw_0020nL1hQ"
      },
      "cell_type": "markdown",
      "source": [
        "## CheckpointHandler Layer"
      ]
    },
    {
      "metadata": {
        "id": "xXFBCzozL4Ml"
      },
      "cell_type": "markdown",
      "source": [
        "The lowest-level API that users typically interact with in Orbax is the [`CheckpointHandler`](https://orbax.readthedocs.io/en/latest/api_reference/checkpoint.checkpoint_handlers.html). Every `CheckpointHandler` is also paired with one or two [`CheckpointArgs`](https://orbax.readthedocs.io/en/latest/api_reference/checkpoint.args.html) objects which encapsulate all necessary and optional arguments that a user can provide when saving or restoring.  At a high level `CheckpointHandler` exists to provide the logic required to save or restore a particular object in a checkpoint."
      ]
    },
    {
      "metadata": {
        "id": "rI1LM9NvMTbC"
      },
      "cell_type": "markdown",
      "source": [
        "`CheckpointHandler` allows for synchronous saving. Subclasses of [`AsyncCheckpointHandler`](https://orbax.readthedocs.io/en/latest/api_reference/checkpoint.checkpoint_handlers.html#asynccheckpointhandler) allow for asynchronous saving. (Restoration is always synchronous.)"
      ]
    },
    {
      "metadata": {
        "id": "oSFxgHNxMmmq"
      },
      "cell_type": "markdown",
      "source": [
        "Crucially a `CheckpointHandler` instance **should not be used in isolation**, but should always be used **in conjunction with a `Checkpointer`**. Otherwise, save operations will not be atomic and async operations cannot be waited upon. This means that in most cases, you will be working with `Checkpointer` APIs rather than `CheckpointHandler` APIs."
      ]
    },
    {
      "metadata": {
        "id": "a68ZfF-2NytG"
      },
      "cell_type": "markdown",
      "source": [
        "However, it is still essential to understand `CheckpointHandler` because you need to know how you want your object to be saved and restored, and what arguments are necessary to make that happen."
      ]
    },
    {
      "metadata": {
        "id": "6y_cukPSONo7"
      },
      "cell_type": "markdown",
      "source": [
        "Let's consider the example of [`StandardCheckpointHandler`](https://orbax.readthedocs.io/en/latest/api_reference/checkpoint.checkpoint_handlers.html#standardcheckpointhandler). This class is paired with [`StandardSave`](https://orbax.readthedocs.io/en/latest/api_reference/checkpoint.args.html#standardsave) and [`StandardRestore`](https://orbax.readthedocs.io/en/latest/api_reference/checkpoint.args.html#standardsave)."
      ]
    },
    {
      "metadata": {
        "id": "gIZP-4SOQUfQ"
      },
      "cell_type": "markdown",
      "source": [
        "`StandardSave` allows specifying the `item` argument, which is the PyTree to be saved using Tensorstore. It also includes `save_args`, which is an optional `PyTree` with a structure matching `item`. Each leaf is a `ocp.type_handlers.SaveArgs` object, which can be used to customize things like the `dtype` of the saved array."
      ]
    },
    {
      "metadata": {
        "id": "SjN6_Q52RSy5"
      },
      "cell_type": "markdown",
      "source": [
        "`StandardRestore` only has one possible argument, the `item`, which is a PyTree of concrete or abstract arrays matching the structure of the checkpoint. This is optional, and the checkpoint will be restored exactly as saved if no argument is provided."
      ]
    },
    {
      "metadata": {
        "id": "zoXth95fRhCj"
      },
      "cell_type": "markdown",
      "source": [
        "In general, other `CheckpointHandler`s may have other arguments, and the contract can be discerned by looking at the corresponding `CheckpointArgs`. Additionally, `CheckpointHandler`s can be [customized](https://orbax.readthedocs.io/en/latest/guides/checkpoint/custom_handlers.html) for specific needs by providing your own implementation."
      ]
    },
    {
      "metadata": {
        "id": "mMxhFno6fvWD"
      },
      "cell_type": "markdown",
      "source": [
        "[`CompositeCheckpointHandler`](https://orbax.readthedocs.io/en/latest/api_reference/checkpoint.checkpoint_handlers.html#compositecheckpointhandler) is a special case that allows composing multiple `CheckpointHandlers` at once. More details are provided throughout this page."
      ]
    }
  ],
  "metadata": {
    "colab": {
      "toc_visible": true
    },
    "kernelspec": {
      "display_name": "Python 3",
      "name": "python3"
    },
    "language_info": {
      "name": "python"
    }
  },
  "nbformat": 4,
  "nbformat_minor": 0
}
