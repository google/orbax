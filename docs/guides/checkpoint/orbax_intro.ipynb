{
  "cells": [
    {
      "cell_type": "markdown",
      "metadata": {
        "id": "ogxpYjTkuDvx"
      },
      "source": [
        "# Introduction to Checkpointing with Orbax"
      ]
    },
    {
      "cell_type": "markdown",
      "metadata": {
        "id": "FLcz8H2JSwer"
      },
      "source": [
        "The Orbax library provides multiple loosely related packages geared towards JAX\n",
        "model persistence; **checkpointing** is a core Orbax component.\n",
        "You can install the checkpointing package with:\n",
        "\n",
        "```\n",
        "pip install orbax-checkpoint\n",
        "```\n",
        "\n",
        "Be sure to check out our [PyPI page](https://pypi.org/project/orbax-checkpoint/)\n",
        "and [GitHub page](https://github.com/google/orbax) for more information.\n",
        "\n",
        "This tutorial (and others in the Orbax documentation) generally assume a basic level of familiarity with the [JAX](https://docs.jax.dev/en/latest/index.html) library."
      ]
    },
    {
      "cell_type": "markdown",
      "metadata": {
        "id": "nOvV2JTfolmV"
      },
      "source": [
        "Now, let's get started with some usage examples. First, we need to set up a\n",
        "simple PyTree containing JAX arrays. This represents our JAX model."
      ]
    },
    {
      "cell_type": "code",
      "execution_count": null,
      "metadata": {
        "id": "10denfVt0jSs"
      },
      "outputs": [],
      "source": [
        "### Setup ###\n",
        "import itertools\n",
        "from etils import epath\n",
        "import jax\n",
        "import numpy as np\n",
        "\n",
        "directory = epath.Path('/tmp/my-checkpoints')\n",
        "pytree = {\n",
        "    'a': np.arange(64).reshape((8, 8)),\n",
        "    'b': np.arange(16),\n",
        "    'c': np.asarray(4.5),\n",
        "}\n",
        "mesh = jax.sharding.Mesh(jax.devices(), ('x',))\n",
        "shardings = {\n",
        "    'a': jax.sharding.NamedSharding(\n",
        "        mesh, jax.sharding.PartitionSpec('x', None)\n",
        "    ),\n",
        "    'b': jax.sharding.NamedSharding(mesh, jax.sharding.PartitionSpec()),\n",
        "    'c': jax.sharding.NamedSharding(mesh, jax.sharding.PartitionSpec()),\n",
        "}\n",
        "pytree = jax.tree.map(\n",
        "    lambda arr, sharding: jax.make_array_from_callback(\n",
        "        arr.shape,\n",
        "        sharding,\n",
        "        lambda idx: arr[idx],\n",
        "    ),\n",
        "    pytree,\n",
        "    shardings,\n",
        ")\n",
        "\n",
        "_checkpoint_name = itertools.count()\n",
        "\n",
        "\n",
        "def next_checkpoint_name() -\u003e str:\n",
        "  return f'ckpt{next(_checkpoint_name)}'"
      ]
    },
    {
      "cell_type": "markdown",
      "metadata": {
        "id": "PU8S8jU9nJuP"
      },
      "source": [
        "## Reading and Writing"
      ]
    },
    {
      "cell_type": "markdown",
      "metadata": {
        "id": "tu4FqD-1nNYP"
      },
      "source": [
        "First, import the checkpointing package."
      ]
    },
    {
      "cell_type": "code",
      "execution_count": null,
      "metadata": {
        "id": "aPFsLzm5nMoh"
      },
      "outputs": [],
      "source": [
        "from orbax.checkpoint import v1 as ocp"
      ]
    },
    {
      "cell_type": "markdown",
      "metadata": {
        "id": "mAl9mWWfoIjt"
      },
      "source": [
        "Using the tree of `jax.Array` created above, let's save a checkpoint."
      ]
    },
    {
      "cell_type": "code",
      "execution_count": null,
      "metadata": {
        "id": "TbccsouCo2pC"
      },
      "outputs": [],
      "source": [
        "checkpoint_name = next_checkpoint_name()\n",
        "ocp.save_pytree(directory / checkpoint_name, pytree)"
      ]
    },
    {
      "cell_type": "markdown",
      "metadata": {
        "id": "v5l86WXLpBvN"
      },
      "source": [
        "Loading yields the original PyTree of arrays."
      ]
    },
    {
      "cell_type": "code",
      "execution_count": null,
      "metadata": {
        "id": "C-oVtDN-pMuL"
      },
      "outputs": [],
      "source": [
        "ocp.load_pytree(directory / checkpoint_name)"
      ]
    },
    {
      "cell_type": "markdown",
      "metadata": {
        "id": "_5NJ9Y7BpL6T"
      },
      "source": [
        "We can inspect the tree structure and array properties using `pytree_metadata`."
      ]
    },
    {
      "cell_type": "code",
      "execution_count": null,
      "metadata": {
        "id": "mMHhCxiFpZmD"
      },
      "outputs": [],
      "source": [
        "ocp.pytree_metadata(directory / checkpoint_name).metadata"
      ]
    },
    {
      "cell_type": "markdown",
      "metadata": {
        "id": "6T8dnBvQpm0B"
      },
      "source": [
        "Note that we are accessing the property: `pytree_metadata(...).metadata`. This is the metadata specific to the PyTree itself. Other properties are general to the entire checkpoint, such as timestamps."
      ]
    },
    {
      "cell_type": "markdown",
      "metadata": {
        "id": "Vf0WkEHFUs2r"
      },
      "source": [
        "Be sure to check out additional documentation on **Working with PyTrees** TODO(b/409381706): Add link."
      ]
    },
    {
      "cell_type": "markdown",
      "metadata": {
        "id": "_fthzZ_TqcdY"
      },
      "source": [
        "## Checkpointing in a Training Loop"
      ]
    },
    {
      "cell_type": "markdown",
      "metadata": {
        "id": "sDjvCOjNqeQl"
      },
      "source": [
        "When training an ML model, checkpoints are commonly used to record progress for later recovery in case of failure, to perform evaluations, or to distribute the model to downstream consumers after the experiment completes. Typically, a checkpoint is saved every `n` steps."
      ]
    },
    {
      "cell_type": "code",
      "execution_count": null,
      "metadata": {
        "id": "1fUxtmBQ-00y"
      },
      "outputs": [],
      "source": [
        "@jax.jit\n",
        "def train_step(state):\n",
        "  \"\"\"Fake train step. This applies a function to `state` in some way.\"\"\"\n",
        "  return jax.tree.map(lambda x: x + 1, state)\n",
        "\n",
        "\n",
        "def initialize_state():\n",
        "  \"\"\"Initializes the state, typically given some random number generator.\"\"\"\n",
        "  return {'step': 0, **pytree}\n",
        "\n",
        "\n",
        "def init_or_restore(\n",
        "    source_checkpoint_path: str | None,\n",
        "):\n",
        "  # If provided, restore initial checkpoint (e.g. for fine-tuning).\n",
        "  # This can be referred to as a \"source\" checkpoint. Note the distinction drawn\n",
        "  # between this \"source checkpoint\" and the \"latest checkpoint\". The source\n",
        "  # checkpoint comes from a different experiment entirely, and is just used\n",
        "  # to initialize the current experiment. The latest checkpoint comes from this\n",
        "  # experiment, and allows us to resume after interruption.\n",
        "  if source_checkpoint_path:\n",
        "    return ocp.load_pytree(source_checkpoint_path)\n",
        "  # Otherwise, init from scratch\n",
        "  else:\n",
        "    return initialize_state()"
      ]
    },
    {
      "cell_type": "code",
      "execution_count": null,
      "metadata": {
        "id": "zzG3Ildy_agq"
      },
      "outputs": [],
      "source": [
        "def train():\n",
        "  total_steps = 10\n",
        "  with ocp.training.Checkpointer(directory / 'experiment') as ckptr:\n",
        "    # If checkpoints exist in the root directory, we are recovering after a\n",
        "    # restart, and should resume from the latest checkpoint.\n",
        "    # Otherwise, init from scratch or load the source checkpoint.\n",
        "    if ckptr.latest is None:\n",
        "      train_state = init_or_restore(directory / checkpoint_name)\n",
        "      start_step = 0\n",
        "    else:\n",
        "      train_state = ckptr.load_pytree()\n",
        "      start_step = ckptr.latest.step\n",
        "\n",
        "    for step in range(start_step, total_steps):\n",
        "      train_state = train_step(train_state)\n",
        "      ckptr.save_pytree(step, train_state)"
      ]
    },
    {
      "cell_type": "code",
      "execution_count": null,
      "metadata": {
        "id": "SIV9e5BIsD-t"
      },
      "outputs": [],
      "source": [
        "train()"
      ]
    },
    {
      "cell_type": "code",
      "execution_count": null,
      "metadata": {
        "id": "CwJfdTLJvXMJ"
      },
      "outputs": [],
      "source": [
        "!ls {directory / 'experiment'}"
      ]
    },
    {
      "cell_type": "markdown",
      "metadata": {
        "id": "-CEh5uCwb4gH"
      },
      "source": [
        "To summarize, a typical training workflow (from a checkpoint-focused perspective), consists of the following steps:\n",
        "\n",
        "*   Identify the latest checkpoint, if any.\n",
        "*   If no latest checkpoint is found:\n",
        "  * Restore from the source checkpoint if provided, or,\n",
        "  * Initialize the model from scratch.\n",
        "*   If a latest checkpoint is found, restore it, and resume training from the latest step.\n",
        "\n"
      ]
    },
    {
      "cell_type": "markdown",
      "metadata": {
        "id": "Rp1GqPSGBbdS"
      },
      "source": [
        "## What's Next? TODO(b/409381706): Provide links to other pages."
      ]
    },
    {
      "cell_type": "markdown",
      "metadata": {
        "id": "N261QGA_Ce1v"
      },
      "source": [
        "So far, we have seen some simple and common patterns of Orbax usage. This represents just the tip of the checkpointing iceberg. We encourage the reader to explore additional topics."
      ]
    },
    {
      "cell_type": "markdown",
      "metadata": {
        "id": "kqQ5IH3mLPCf"
      },
      "source": [
        "PyTrees of arrays are a fundamental representation of ML models in JAX. **Working with PyTrees** examines PyTree checkpointing in greater detail, showing how to reshard, cast, and manipulate other array properties. It also demonstrates multiple mechanisms for partially restoring a PyTree. Further advanced options for saving and restoring PyTrees and arrays are also shown."
      ]
    },
    {
      "cell_type": "markdown",
      "metadata": {
        "id": "ECtErBW-LQPl"
      },
      "source": [
        "Compute efficiency is crucial for training ML models. **Async checkpointing** shows how to save and load in a background thread, minimizing the performance impact of checkpointing on the training job."
      ]
    },
    {
      "cell_type": "markdown",
      "metadata": {
        "id": "tOyIeWZkLRO4"
      },
      "source": [
        "PyTrees of arrays are not the only type of object that needs to be checkpointed. Orbax introduces the concept of a **Checkpointable** to represent other objects, like dataset iterators or special metadata, that must be saved alongside the main model. Further mechanisms for advanced support for user-customized objects are also shown."
      ]
    },
    {
      "cell_type": "markdown",
      "metadata": {
        "id": "8Mhu_SIeMEsS"
      },
      "source": [
        "The step-based training loop is a common concept across many ML workflows. We expand on the **training module** provided by Orbax, which offers `Checkpointer` as the primary entry point."
      ]
    },
    {
      "cell_type": "markdown",
      "metadata": {
        "id": "Fm5f2ajeMkC2"
      },
      "source": [
        "Interacting directly with the **file format** of the checkpoint on disk is useful in a variety of circumstances. We provide details on the file format, contributing to a deeper grasp of Orbax concepts, debugging strategies, and advanced options."
      ]
    }
  ],
  "metadata": {
    "colab": {
      "last_runtime": {
        "build_target": "//experimental/users/cpgaffney/colab:orbax_colab",
        "kind": "private"
      },
      "private_outputs": true,
      "provenance": [
        {
          "file_id": "/piper/depot//orbax/docs/guides/checkpoint/v1/orbax_intro.ipynb?workspaceId=cpgaffney:docs::citc",
          "timestamp": 1745277416521
        },
        {
          "file_id": "1yN2MO9s_GKZBs21ycBbWd-c36Oh7lIQ7",
          "timestamp": 1745254190721
        }
      ],
      "toc_visible": true
    },
    "kernelspec": {
      "display_name": "Python 3",
      "name": "python3"
    },
    "language_info": {
      "name": "python"
    }
  },
  "nbformat": 4,
  "nbformat_minor": 0
}
